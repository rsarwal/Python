{
 "cells": [
  {
   "cell_type": "code",
   "execution_count": 1,
   "id": "81aa87bb",
   "metadata": {},
   "outputs": [],
   "source": [
    "from http.client import HTTPSConnection\n",
    "from base64 import b64encode\n",
    "from json import loads\n",
    "from json import dumps\n",
    "import json"
   ]
  },
  {
   "cell_type": "code",
   "execution_count": 6,
   "id": "64b3af8c",
   "metadata": {},
   "outputs": [],
   "source": [
    "class RestClient:\n",
    "    domain = \"content-analysis-74404.uc.r.appspot.com\"\n",
    "\n",
    "    def __init__(self, username, password):\n",
    "        self.username = username\n",
    "        self.password = password\n",
    "\n",
    "    def request(self, path, method, data=None):\n",
    "        connection = HTTPSConnection(self.domain)\n",
    "        try:\n",
    "            base64_bytes = b64encode(\n",
    "                (\"%s:%s\" % (self.username, self.password)).encode(\"ascii\")\n",
    "                ).decode(\"ascii\")\n",
    "            headers = {'Authorization' : 'Basic %s' %  base64_bytes, 'Content-Encoding' : 'gzip'}\n",
    "            connection.request(method, path, headers=headers, body=data)\n",
    "            response = connection.getresponse()\n",
    "            return loads(response.read().decode())\n",
    "        finally:\n",
    "            connection.close()\n",
    "\n",
    "    def get(self, path):\n",
    "        return self.request(path, 'GET')\n",
    "\n",
    "    def post(self, path, data):\n",
    "        if isinstance(data, str):\n",
    "            data_str = data\n",
    "        else:\n",
    "            data_str = dumps(data)\n",
    "        return self.request(path, 'POST',post_data)\n"
   ]
  },
  {
   "cell_type": "code",
   "execution_count": null,
   "id": "e4d40d11",
   "metadata": {},
   "outputs": [],
   "source": [
    "try:\n",
    "    from config import API_USERNAME, API_PASSWORD\n",
    "except ImportError:\n",
    "    print(\"Please create a config.py file with your credentials\")"
   ]
  },
  {
   "cell_type": "code",
   "execution_count": 10,
   "id": "e64cc1ec",
   "metadata": {},
   "outputs": [
    {
     "name": "stdout",
     "output_type": "stream",
     "text": [
      "{'version': '0.1.20221214', 'status_code': 20000, 'status_message': 'Ok.', 'time': '6.8598 sec.', 'cost': 0.124, 'tasks_count': 1, 'tasks_error': 0, 'tasks': [{'id': '03141557-5946-0406-0000-f25ff2556d33', 'status_code': 20000, 'status_message': 'Ok.', 'time': '6.8052 sec.', 'cost': 0.124, 'result_count': 1, 'path': ['v3', 'dataforseo_labs', 'google', 'historical_rank_overview', 'live'], 'data': {'api': 'dataforseo_labs', 'function': 'historical_rank_overview', 'se_type': 'google', 'target': 'lovepop.com', 'location_name': 'United States', 'language_name': 'English', 'date_from': '2021-01-01', 'date_to': '2022-12-31'}, 'result': [{'se_type': 'google', 'target': 'lovepop.com', 'location_code': 2840, 'language_code': 'en', 'total_count': 24, 'items_count': 24, 'items': [{'se_type': 'google', 'year': 2022, 'month': 12, 'metrics': {'organic': {'pos_1': 677, 'pos_2_3': 1112, 'pos_4_10': 4372, 'pos_11_20': 6572, 'pos_21_30': 7211, 'pos_31_40': 7877, 'pos_41_50': 7804, 'pos_51_60': 7585, 'pos_61_70': 7229, 'pos_71_80': 6871, 'pos_81_90': 6715, 'pos_91_100': 4476, 'etv': 745085.0601391569, 'impressions_etv': 58520.26186590642, 'count': 68511, 'estimated_paid_traffic_cost': 2052003.993824624, 'is_new': 27528, 'is_up': 17143, 'is_down': 20655, 'is_lost': 18815}, 'paid': {'pos_1': 47, 'pos_2_3': 5, 'pos_4_10': 0, 'pos_11_20': 0, 'pos_21_30': 0, 'pos_31_40': 0, 'pos_41_50': 0, 'pos_51_60': 0, 'pos_61_70': 0, 'pos_71_80': 0, 'pos_81_90': 0, 'pos_91_100': 0, 'etv': 8199.653734147549, 'impressions_etv': 519.6330796182156, 'count': 52, 'estimated_paid_traffic_cost': 17627.2114956975, 'is_new': 49, 'is_up': 0, 'is_down': 1, 'is_lost': 43}}}, {'se_type': 'google', 'year': 2022, 'month': 11, 'metrics': {'organic': {'pos_1': 631, 'pos_2_3': 1053, 'pos_4_10': 4195, 'pos_11_20': 6500, 'pos_21_30': 6833, 'pos_31_40': 7571, 'pos_41_50': 7500, 'pos_51_60': 7140, 'pos_61_70': 6533, 'pos_71_80': 6118, 'pos_81_90': 5503, 'pos_91_100': 3632, 'etv': 614980.2438674048, 'impressions_etv': 54480.25092233345, 'count': 63209, 'estimated_paid_traffic_cost': 1532791.369298386, 'is_new': 23181, 'is_up': 18600, 'is_down': 18150, 'is_lost': 15171}, 'paid': {'pos_1': 43, 'pos_2_3': 7, 'pos_4_10': 0, 'pos_11_20': 0, 'pos_21_30': 0, 'pos_31_40': 0, 'pos_41_50': 0, 'pos_51_60': 0, 'pos_61_70': 0, 'pos_71_80': 0, 'pos_81_90': 0, 'pos_91_100': 0, 'etv': 9928.938042521477, 'impressions_etv': 5170.634325683117, 'count': 50, 'estimated_paid_traffic_cost': 40066.30236709118, 'is_new': 47, 'is_up': 0, 'is_down': 0, 'is_lost': 31}}}, {'se_type': 'google', 'year': 2022, 'month': 10, 'metrics': {'organic': {'pos_1': 596, 'pos_2_3': 1039, 'pos_4_10': 4099, 'pos_11_20': 6455, 'pos_21_30': 6795, 'pos_31_40': 7191, 'pos_41_50': 6746, 'pos_51_60': 6152, 'pos_61_70': 5549, 'pos_71_80': 4898, 'pos_81_90': 4230, 'pos_91_100': 2575, 'etv': 555263.2591753248, 'impressions_etv': 49439.14624620322, 'count': 56325, 'estimated_paid_traffic_cost': 1112313.523826365, 'is_new': 19427, 'is_up': 14864, 'is_down': 18925, 'is_lost': 15996}, 'paid': {'pos_1': 30, 'pos_2_3': 3, 'pos_4_10': 0, 'pos_11_20': 0, 'pos_21_30': 0, 'pos_31_40': 0, 'pos_41_50': 0, 'pos_51_60': 0, 'pos_61_70': 0, 'pos_71_80': 0, 'pos_81_90': 0, 'pos_91_100': 0, 'etv': 9570.429143190384, 'impressions_etv': 5149.418808251619, 'count': 33, 'estimated_paid_traffic_cost': 12944.025265455246, 'is_new': 31, 'is_up': 0, 'is_down': 0, 'is_lost': 8}}}, {'se_type': 'google', 'year': 2022, 'month': 9, 'metrics': {'organic': {'pos_1': 537, 'pos_2_3': 962, 'pos_4_10': 3827, 'pos_11_20': 6242, 'pos_21_30': 6580, 'pos_31_40': 6594, 'pos_41_50': 5946, 'pos_51_60': 5324, 'pos_61_70': 4864, 'pos_71_80': 3932, 'pos_81_90': 3205, 'pos_91_100': 1845, 'etv': 472396.4765184261, 'impressions_etv': 53219.453628312796, 'count': 49858, 'estimated_paid_traffic_cost': 830853.3386101923, 'is_new': 17269, 'is_up': 14122, 'is_down': 15801, 'is_lost': 14577}, 'paid': {'pos_1': 8, 'pos_2_3': 0, 'pos_4_10': 0, 'pos_11_20': 0, 'pos_21_30': 0, 'pos_31_40': 0, 'pos_41_50': 0, 'pos_51_60': 0, 'pos_61_70': 0, 'pos_71_80': 0, 'pos_81_90': 0, 'pos_91_100': 0, 'etv': 3095.6940495967865, 'impressions_etv': 1848.9271124005318, 'count': 8, 'estimated_paid_traffic_cost': 4085.796940803528, 'is_new': 7, 'is_up': 0, 'is_down': 0, 'is_lost': 38}}}, {'se_type': 'google', 'year': 2022, 'month': 8, 'metrics': {'organic': {'pos_1': 554, 'pos_2_3': 994, 'pos_4_10': 3672, 'pos_11_20': 6234, 'pos_21_30': 6729, 'pos_31_40': 6968, 'pos_41_50': 6131, 'pos_51_60': 5483, 'pos_61_70': 4862, 'pos_71_80': 4003, 'pos_81_90': 3318, 'pos_91_100': 1883, 'etv': 461515.0369215645, 'impressions_etv': 54474.85046136007, 'count': 50831, 'estimated_paid_traffic_cost': 788785.3657510872, 'is_new': 18877, 'is_up': 14428, 'is_down': 15041, 'is_lost': 13796}, 'paid': {'pos_1': 16, 'pos_2_3': 1, 'pos_4_10': 0, 'pos_11_20': 0, 'pos_21_30': 0, 'pos_31_40': 0, 'pos_41_50': 0, 'pos_51_60': 0, 'pos_61_70': 0, 'pos_71_80': 0, 'pos_81_90': 0, 'pos_91_100': 0, 'etv': 2746.205914258957, 'impressions_etv': 1785.3762204051018, 'count': 17, 'estimated_paid_traffic_cost': 3359.2802171707153, 'is_new': 11, 'is_up': 0, 'is_down': 0, 'is_lost': 52}}}, {'se_type': 'google', 'year': 2022, 'month': 7, 'metrics': {'organic': {'pos_1': 582, 'pos_2_3': 906, 'pos_4_10': 3475, 'pos_11_20': 5610, 'pos_21_30': 6413, 'pos_31_40': 6480, 'pos_41_50': 6021, 'pos_51_60': 5217, 'pos_61_70': 4391, 'pos_71_80': 3778, 'pos_81_90': 2986, 'pos_91_100': 1689, 'etv': 412881.4331649672, 'impressions_etv': 43190.799279714, 'count': 47548, 'estimated_paid_traffic_cost': 1063342.1519783386, 'is_new': 19984, 'is_up': 12082, 'is_down': 13577, 'is_lost': 13744}, 'paid': {'pos_1': 49, 'pos_2_3': 5, 'pos_4_10': 0, 'pos_11_20': 0, 'pos_21_30': 0, 'pos_31_40': 0, 'pos_41_50': 0, 'pos_51_60': 0, 'pos_61_70': 0, 'pos_71_80': 0, 'pos_81_90': 0, 'pos_91_100': 0, 'etv': 16129.995009809732, 'impressions_etv': 6591.185849860311, 'count': 54, 'estimated_paid_traffic_cost': 46451.4890550375, 'is_new': 45, 'is_up': 1, 'is_down': 0, 'is_lost': 41}}}, {'se_type': 'google', 'year': 2022, 'month': 6, 'metrics': {'organic': {'pos_1': 639, 'pos_2_3': 890, 'pos_4_10': 3440, 'pos_11_20': 5253, 'pos_21_30': 6291, 'pos_31_40': 6127, 'pos_41_50': 5728, 'pos_51_60': 4959, 'pos_61_70': 4319, 'pos_71_80': 3709, 'pos_81_90': 3144, 'pos_91_100': 1783, 'etv': 474598.8923506811, 'impressions_etv': 49786.26108923089, 'count': 46282, 'estimated_paid_traffic_cost': 1256258.726163684, 'is_new': 46282, 'is_up': 11587, 'is_down': 11456, 'is_lost': 11880}, 'paid': {'pos_1': 52, 'pos_2_3': 2, 'pos_4_10': 1, 'pos_11_20': 0, 'pos_21_30': 0, 'pos_31_40': 0, 'pos_41_50': 0, 'pos_51_60': 0, 'pos_61_70': 0, 'pos_71_80': 0, 'pos_81_90': 0, 'pos_91_100': 0, 'etv': 11034.604105621576, 'impressions_etv': 5194.346728309989, 'count': 55, 'estimated_paid_traffic_cost': 77058.2374600172, 'is_new': 55, 'is_up': 0, 'is_down': 0, 'is_lost': 30}}}, {'se_type': 'google', 'year': 2022, 'month': 5, 'metrics': {'organic': {'pos_1': 676, 'pos_2_3': 888, 'pos_4_10': 3394, 'pos_11_20': 5068, 'pos_21_30': 6064, 'pos_31_40': 5931, 'pos_41_50': 5541, 'pos_51_60': 4746, 'pos_61_70': 4183, 'pos_71_80': 3504, 'pos_81_90': 3048, 'pos_91_100': 1743, 'etv': 504889.6579125058, 'impressions_etv': 50220.01518509351, 'count': 44786, 'estimated_paid_traffic_cost': 1268112.2445392986, 'is_new': 44784, 'is_up': 11460, 'is_down': 10279, 'is_lost': 11516}, 'paid': {'pos_1': 42, 'pos_2_3': 3, 'pos_4_10': 0, 'pos_11_20': 0, 'pos_21_30': 0, 'pos_31_40': 0, 'pos_41_50': 0, 'pos_51_60': 0, 'pos_61_70': 0, 'pos_71_80': 0, 'pos_81_90': 0, 'pos_91_100': 0, 'etv': 10807.122101455927, 'impressions_etv': 4996.04576523602, 'count': 45, 'estimated_paid_traffic_cost': 57197.64793360233, 'is_new': 45, 'is_up': 0, 'is_down': 0, 'is_lost': 29}}}, {'se_type': 'google', 'year': 2022, 'month': 4, 'metrics': {'organic': {'pos_1': 607, 'pos_2_3': 839, 'pos_4_10': 2944, 'pos_11_20': 4836, 'pos_21_30': 5159, 'pos_31_40': 5016, 'pos_41_50': 4579, 'pos_51_60': 4351, 'pos_61_70': 3976, 'pos_71_80': 3458, 'pos_81_90': 2943, 'pos_91_100': 1760, 'etv': 624180.4502648804, 'impressions_etv': 32580.42847463768, 'count': 40468, 'estimated_paid_traffic_cost': 793152.8179018064, 'is_new': 31597, 'is_up': 8006, 'is_down': 10032, 'is_lost': 20640}, 'paid': {'pos_1': 45, 'pos_2_3': 2, 'pos_4_10': 1, 'pos_11_20': 0, 'pos_21_30': 0, 'pos_31_40': 0, 'pos_41_50': 0, 'pos_51_60': 0, 'pos_61_70': 0, 'pos_71_80': 0, 'pos_81_90': 0, 'pos_91_100': 0, 'etv': 5016.782130360603, 'impressions_etv': 1705.530467517674, 'count': 48, 'estimated_paid_traffic_cost': 15563.242857508361, 'is_new': 47, 'is_up': 1, 'is_down': 0, 'is_lost': 39}}}, {'se_type': 'google', 'year': 2022, 'month': 3, 'metrics': {'organic': {'pos_1': 610, 'pos_2_3': 800, 'pos_4_10': 2877, 'pos_11_20': 4739, 'pos_21_30': 4888, 'pos_31_40': 4785, 'pos_41_50': 4899, 'pos_51_60': 4764, 'pos_61_70': 4613, 'pos_71_80': 4237, 'pos_81_90': 3868, 'pos_91_100': 2491, 'etv': 680961.8654501829, 'impressions_etv': 102594.54855549708, 'count': 43571, 'estimated_paid_traffic_cost': 863024.1650260646, 'is_new': 25123, 'is_up': 7313, 'is_down': 11118, 'is_lost': 18988}, 'paid': {'pos_1': 51, 'pos_2_3': 3, 'pos_4_10': 1, 'pos_11_20': 0, 'pos_21_30': 0, 'pos_31_40': 0, 'pos_41_50': 0, 'pos_51_60': 0, 'pos_61_70': 0, 'pos_71_80': 0, 'pos_81_90': 0, 'pos_91_100': 0, 'etv': 5541.689128100872, 'impressions_etv': 6551.806384027004, 'count': 55, 'estimated_paid_traffic_cost': 17251.54897289723, 'is_new': 53, 'is_up': 1, 'is_down': 0, 'is_lost': 40}}}, {'se_type': 'google', 'year': 2022, 'month': 2, 'metrics': {'organic': {'pos_1': 598, 'pos_2_3': 759, 'pos_4_10': 2899, 'pos_11_20': 4898, 'pos_21_30': 5042, 'pos_31_40': 4907, 'pos_41_50': 5107, 'pos_51_60': 5011, 'pos_61_70': 4935, 'pos_71_80': 4617, 'pos_81_90': 4363, 'pos_91_100': 2909, 'etv': 700216.7366716452, 'impressions_etv': 95771.81544929463, 'count': 46045, 'estimated_paid_traffic_cost': 994345.273072112, 'is_new': 26218, 'is_up': 7725, 'is_down': 10789, 'is_lost': 19007}, 'paid': {'pos_1': 48, 'pos_2_3': 3, 'pos_4_10': 1, 'pos_11_20': 0, 'pos_21_30': 0, 'pos_31_40': 0, 'pos_41_50': 0, 'pos_51_60': 0, 'pos_61_70': 0, 'pos_71_80': 0, 'pos_81_90': 0, 'pos_91_100': 0, 'etv': 5249.861128687859, 'impressions_etv': 2121.373426347971, 'count': 52, 'estimated_paid_traffic_cost': 19217.46799635887, 'is_new': 50, 'is_up': 1, 'is_down': 0, 'is_lost': 46}}}, {'se_type': 'google', 'year': 2022, 'month': 1, 'metrics': {'organic': {'pos_1': 552, 'pos_2_3': 719, 'pos_4_10': 2863, 'pos_11_20': 5462, 'pos_21_30': 5310, 'pos_31_40': 5003, 'pos_41_50': 4808, 'pos_51_60': 4734, 'pos_61_70': 4353, 'pos_71_80': 4102, 'pos_81_90': 3845, 'pos_91_100': 2486, 'etv': 637742.968903916, 'impressions_etv': 57452.6048459257, 'count': 44237, 'estimated_paid_traffic_cost': 909043.3834423102, 'is_new': 26263, 'is_up': 8175, 'is_down': 8423, 'is_lost': 17468}, 'paid': {'pos_1': 47, 'pos_2_3': 6, 'pos_4_10': 0, 'pos_11_20': 0, 'pos_21_30': 0, 'pos_31_40': 0, 'pos_41_50': 0, 'pos_51_60': 0, 'pos_61_70': 0, 'pos_71_80': 0, 'pos_81_90': 0, 'pos_91_100': 0, 'etv': 4677.018100857735, 'impressions_etv': 1013.5376858711243, 'count': 53, 'estimated_paid_traffic_cost': 23092.06847770512, 'is_new': 52, 'is_up': 0, 'is_down': 0, 'is_lost': 24}}}, {'se_type': 'google', 'year': 2021, 'month': 12, 'metrics': {'organic': {'pos_1': 508, 'pos_2_3': 689, 'pos_4_10': 2746, 'pos_11_20': 5345, 'pos_21_30': 5168, 'pos_31_40': 4922, 'pos_41_50': 4648, 'pos_51_60': 4600, 'pos_61_70': 4294, 'pos_71_80': 4232, 'pos_81_90': 4061, 'pos_91_100': 2591, 'etv': 634698.2907511089, 'impressions_etv': 54761.560627161525, 'count': 43804, 'estimated_paid_traffic_cost': 941076.0821428765, 'is_new': 7762, 'is_up': 4429, 'is_down': 9983, 'is_lost': 30598}, 'paid': {'pos_1': 44, 'pos_2_3': 9, 'pos_4_10': 1, 'pos_11_20': 0, 'pos_21_30': 0, 'pos_31_40': 0, 'pos_41_50': 0, 'pos_51_60': 0, 'pos_61_70': 0, 'pos_71_80': 0, 'pos_81_90': 0, 'pos_91_100': 0, 'etv': 321.45899963378906, 'impressions_etv': 72.45617935061455, 'count': 54, 'estimated_paid_traffic_cost': 737.0750837959349, 'is_new': 0, 'is_up': 0, 'is_down': 20, 'is_lost': 53}}}, {'se_type': 'google', 'year': 2021, 'month': 11, 'metrics': {'organic': {'pos_1': 440, 'pos_2_3': 629, 'pos_4_10': 2278, 'pos_11_20': 4185, 'pos_21_30': 4171, 'pos_31_40': 3820, 'pos_41_50': 3631, 'pos_51_60': 3520, 'pos_61_70': 3340, 'pos_71_80': 3262, 'pos_81_90': 3050, 'pos_91_100': 1881, 'etv': 650587.0973674897, 'impressions_etv': 34684.22184036579, 'count': 34207, 'estimated_paid_traffic_cost': 949285.7800977975, 'is_new': 401, 'is_up': 2198, 'is_down': 30610, 'is_lost': 3063}, 'paid': {'pos_1': 26, 'pos_2_3': 2, 'pos_4_10': 1, 'pos_11_20': 0, 'pos_21_30': 0, 'pos_31_40': 0, 'pos_41_50': 0, 'pos_51_60': 0, 'pos_61_70': 0, 'pos_71_80': 0, 'pos_81_90': 0, 'pos_91_100': 0, 'etv': 287.73000317811966, 'impressions_etv': 133.94685125350952, 'count': 29, 'estimated_paid_traffic_cost': 586.9412127137184, 'is_new': 0, 'is_up': 9, 'is_down': 28, 'is_lost': 0}}}, {'se_type': 'google', 'year': 2021, 'month': 10, 'metrics': {'organic': {'pos_1': 113, 'pos_2_3': 223, 'pos_4_10': 736, 'pos_11_20': 1175, 'pos_21_30': 1099, 'pos_31_40': 1134, 'pos_41_50': 1029, 'pos_51_60': 1017, 'pos_61_70': 920, 'pos_71_80': 997, 'pos_81_90': 894, 'pos_91_100': 700, 'etv': 247603.53053333238, 'impressions_etv': 18285.719811004587, 'count': 10037, 'estimated_paid_traffic_cost': 376001.98036572494, 'is_new': 0, 'is_up': 0, 'is_down': 8948, 'is_lost': 0}, 'paid': {'pos_1': 54, 'pos_2_3': 13, 'pos_4_10': 0, 'pos_11_20': 0, 'pos_21_30': 0, 'pos_31_40': 0, 'pos_41_50': 0, 'pos_51_60': 0, 'pos_61_70': 0, 'pos_71_80': 0, 'pos_81_90': 0, 'pos_91_100': 0, 'etv': 3725.449764232337, 'impressions_etv': 94.40377214986884, 'count': 67, 'estimated_paid_traffic_cost': 11550.072828220184, 'is_new': 0, 'is_up': 0, 'is_down': 3700, 'is_lost': 0}}}, {'se_type': 'google', 'year': 2021, 'month': 9, 'metrics': {'organic': {'pos_1': 0, 'pos_2_3': 1, 'pos_4_10': 1, 'pos_11_20': 4, 'pos_21_30': 4, 'pos_31_40': 8, 'pos_41_50': 12, 'pos_51_60': 11, 'pos_61_70': 15, 'pos_71_80': 15, 'pos_81_90': 19, 'pos_91_100': 15, 'etv': 10.64100020378828, 'impressions_etv': 1.0475999945774674, 'count': 105, 'estimated_paid_traffic_cost': 10.548838848946616, 'is_new': 0, 'is_up': 0, 'is_down': 92, 'is_lost': 0}, 'paid': {'pos_1': 0, 'pos_2_3': 0, 'pos_4_10': 0, 'pos_11_20': 0, 'pos_21_30': 0, 'pos_31_40': 0, 'pos_41_50': 0, 'pos_51_60': 0, 'pos_61_70': 0, 'pos_71_80': 0, 'pos_81_90': 0, 'pos_91_100': 0, 'etv': 0, 'impressions_etv': 0, 'count': 0, 'estimated_paid_traffic_cost': 0, 'is_new': 0, 'is_up': 0, 'is_down': 0, 'is_lost': 0}}}, {'se_type': 'google', 'year': 2021, 'month': 8, 'metrics': {'organic': None, 'paid': None}}, {'se_type': 'google', 'year': 2021, 'month': 7, 'metrics': {'organic': {'pos_1': 0, 'pos_2_3': 0, 'pos_4_10': 0, 'pos_11_20': 0, 'pos_21_30': 0, 'pos_31_40': 1, 'pos_41_50': 0, 'pos_51_60': 0, 'pos_61_70': 3, 'pos_71_80': 0, 'pos_81_90': 0, 'pos_91_100': 1, 'etv': 5.396999960765243, 'impressions_etv': 0.14112000167369843, 'count': 5, 'estimated_paid_traffic_cost': 10.482354294508696, 'is_new': 0, 'is_up': 1, 'is_down': 2, 'is_lost': 2}, 'paid': {'pos_1': 0, 'pos_2_3': 0, 'pos_4_10': 0, 'pos_11_20': 0, 'pos_21_30': 0, 'pos_31_40': 0, 'pos_41_50': 0, 'pos_51_60': 0, 'pos_61_70': 0, 'pos_71_80': 0, 'pos_81_90': 0, 'pos_91_100': 0, 'etv': 0, 'impressions_etv': 0, 'count': 0, 'estimated_paid_traffic_cost': 0, 'is_new': 0, 'is_up': 0, 'is_down': 0, 'is_lost': 0}}}, {'se_type': 'google', 'year': 2021, 'month': 6, 'metrics': {'organic': {'pos_1': 0, 'pos_2_3': 0, 'pos_4_10': 0, 'pos_11_20': 0, 'pos_21_30': 0, 'pos_31_40': 2, 'pos_41_50': 0, 'pos_51_60': 1, 'pos_61_70': 4, 'pos_71_80': 1, 'pos_81_90': 0, 'pos_91_100': 1, 'etv': 2.7036934389436436, 'impressions_etv': 0.351547484213035, 'count': 9, 'estimated_paid_traffic_cost': 4.2321429060118225, 'is_new': 91, 'is_up': 3, 'is_down': 1, 'is_lost': 9}, 'paid': {'pos_1': 0, 'pos_2_3': 0, 'pos_4_10': 0, 'pos_11_20': 0, 'pos_21_30': 0, 'pos_31_40': 0, 'pos_41_50': 0, 'pos_51_60': 0, 'pos_61_70': 0, 'pos_71_80': 0, 'pos_81_90': 0, 'pos_91_100': 0, 'etv': 0, 'impressions_etv': 0, 'count': 0, 'estimated_paid_traffic_cost': 0, 'is_new': 0, 'is_up': 0, 'is_down': 0, 'is_lost': 0}}}, {'se_type': 'google', 'year': 2021, 'month': 5, 'metrics': {'organic': {'pos_1': 0, 'pos_2_3': 0, 'pos_4_10': 0, 'pos_11_20': 3, 'pos_21_30': 5, 'pos_31_40': 5, 'pos_41_50': 1, 'pos_51_60': 8, 'pos_61_70': 7, 'pos_71_80': 3, 'pos_81_90': 7, 'pos_91_100': 11, 'etv': 4.06872, 'impressions_etv': 0.8378118000000001, 'count': 50, 'estimated_paid_traffic_cost': 6.24408236298, 'is_new': 114, 'is_up': 18, 'is_down': 12, 'is_lost': 17}, 'paid': {'pos_1': 0, 'pos_2_3': 0, 'pos_4_10': 0, 'pos_11_20': 0, 'pos_21_30': 0, 'pos_31_40': 0, 'pos_41_50': 0, 'pos_51_60': 0, 'pos_61_70': 0, 'pos_71_80': 0, 'pos_81_90': 0, 'pos_91_100': 0, 'etv': 0, 'impressions_etv': 0, 'count': 0, 'estimated_paid_traffic_cost': 0, 'is_new': 0, 'is_up': 0, 'is_down': 0, 'is_lost': 0}}}, {'se_type': 'google', 'year': 2021, 'month': 4, 'metrics': {'organic': {'pos_1': 0, 'pos_2_3': 0, 'pos_4_10': 4, 'pos_11_20': 18, 'pos_21_30': 11, 'pos_31_40': 22, 'pos_41_50': 19, 'pos_51_60': 23, 'pos_61_70': 26, 'pos_71_80': 25, 'pos_81_90': 21, 'pos_91_100': 21, 'etv': 89.36425946594517, 'impressions_etv': 15.1610278917183, 'count': 190, 'estimated_paid_traffic_cost': 286.752340230807, 'is_new': 0, 'is_up': 235, 'is_down': 0, 'is_lost': 0}, 'paid': {'pos_1': 0, 'pos_2_3': 0, 'pos_4_10': 0, 'pos_11_20': 0, 'pos_21_30': 0, 'pos_31_40': 0, 'pos_41_50': 0, 'pos_51_60': 0, 'pos_61_70': 0, 'pos_71_80': 0, 'pos_81_90': 0, 'pos_91_100': 0, 'etv': 0, 'impressions_etv': 0, 'count': 0, 'estimated_paid_traffic_cost': 0, 'is_new': 0, 'is_up': 0, 'is_down': 0, 'is_lost': 0}}}, {'se_type': 'google', 'year': 2021, 'month': 3, 'metrics': {'organic': {'pos_1': 0, 'pos_2_3': 0, 'pos_4_10': 5, 'pos_11_20': 29, 'pos_21_30': 18, 'pos_31_40': 26, 'pos_41_50': 39, 'pos_51_60': 37, 'pos_61_70': 38, 'pos_71_80': 41, 'pos_81_90': 32, 'pos_91_100': 28, 'etv': 221.68726633488833, 'impressions_etv': 67.83859912196097, 'count': 293, 'estimated_paid_traffic_cost': 327.6228795031952, 'is_new': 0, 'is_up': 432, 'is_down': 0, 'is_lost': 0}, 'paid': {'pos_1': 0, 'pos_2_3': 0, 'pos_4_10': 0, 'pos_11_20': 0, 'pos_21_30': 0, 'pos_31_40': 0, 'pos_41_50': 0, 'pos_51_60': 0, 'pos_61_70': 0, 'pos_71_80': 0, 'pos_81_90': 0, 'pos_91_100': 0, 'etv': 0, 'impressions_etv': 0, 'count': 0, 'estimated_paid_traffic_cost': 0, 'is_new': 0, 'is_up': 0, 'is_down': 0, 'is_lost': 0}}}, {'se_type': 'google', 'year': 2021, 'month': 2, 'metrics': {'organic': {'pos_1': 0, 'pos_2_3': 1, 'pos_4_10': 6, 'pos_11_20': 27, 'pos_21_30': 17, 'pos_31_40': 27, 'pos_41_50': 43, 'pos_51_60': 46, 'pos_61_70': 37, 'pos_71_80': 41, 'pos_81_90': 32, 'pos_91_100': 26, 'etv': 228.11818800075724, 'impressions_etv': 72.38376257446497, 'count': 303, 'estimated_paid_traffic_cost': 313.2367321219683, 'is_new': 0, 'is_up': 442, 'is_down': 0, 'is_lost': 0}, 'paid': {'pos_1': 0, 'pos_2_3': 0, 'pos_4_10': 0, 'pos_11_20': 0, 'pos_21_30': 0, 'pos_31_40': 0, 'pos_41_50': 0, 'pos_51_60': 0, 'pos_61_70': 0, 'pos_71_80': 0, 'pos_81_90': 0, 'pos_91_100': 0, 'etv': 0, 'impressions_etv': 0, 'count': 0, 'estimated_paid_traffic_cost': 0, 'is_new': 0, 'is_up': 0, 'is_down': 0, 'is_lost': 0}}}, {'se_type': 'google', 'year': 2021, 'month': 1, 'metrics': {'organic': {'pos_1': 1, 'pos_2_3': 1, 'pos_4_10': 7, 'pos_11_20': 20, 'pos_21_30': 20, 'pos_31_40': 26, 'pos_41_50': 32, 'pos_51_60': 37, 'pos_61_70': 47, 'pos_71_80': 35, 'pos_81_90': 28, 'pos_91_100': 25, 'etv': 162.15490847536657, 'impressions_etv': 31.906744240954602, 'count': 279, 'estimated_paid_traffic_cost': 204.2672411408583, 'is_new': 233, 'is_up': 0, 'is_down': 0, 'is_lost': 0}, 'paid': {'pos_1': 0, 'pos_2_3': 0, 'pos_4_10': 0, 'pos_11_20': 0, 'pos_21_30': 0, 'pos_31_40': 0, 'pos_41_50': 0, 'pos_51_60': 0, 'pos_61_70': 0, 'pos_71_80': 0, 'pos_81_90': 0, 'pos_91_100': 0, 'etv': 0, 'impressions_etv': 0, 'count': 0, 'estimated_paid_traffic_cost': 0, 'is_new': 0, 'is_up': 0, 'is_down': 0, 'is_lost': 0}}}]}]}]}\n"
     ]
    }
   ],
   "source": [
    "from client import RestClient\n",
    "# You can download this file from here https://cdn.dataforseo.com/v3/examples/python/python_Client.zip\n",
    "client = RestClient(\"API_USERNAME\", \"API_PASSWORD\")\n",
    "post_data = dict()\n",
    "# simple way to set a task\n",
    "post_data[len(post_data)] = dict(\n",
    "    target=\"lovepop.com\",\n",
    "    location_name=\"United States\",\n",
    "    language_name=\"English\",\n",
    "    date_from=\"2021-01-01\",\n",
    "    date_to=\"2022-12-31\"    \n",
    ")\n",
    "# POST /v3/dataforseo_labs/google/historical_rank_overview/live\n",
    "response = client.post(\"/v3/dataforseo_labs/google/historical_rank_overview/live\", post_data)\n",
    "# you can find the full list of the response codes here https://docs.dataforseo.com/v3/appendix/errors\n",
    "if response[\"status_code\"] == 20000:\n",
    "    print(response)\n",
    "    # do something with result\n",
    "else:\n",
    "    print(\"error. Code: %d Message: %s\" % (response[\"status_code\"], response[\"status_message\"]))"
   ]
  },
  {
   "cell_type": "code",
   "execution_count": 11,
   "id": "4cdb8d8e",
   "metadata": {},
   "outputs": [
    {
     "name": "stdout",
     "output_type": "stream",
     "text": [
      "<class 'dict'>\n"
     ]
    }
   ],
   "source": [
    "print(type(response))"
   ]
  },
  {
   "cell_type": "code",
   "execution_count": 12,
   "id": "07d6d200",
   "metadata": {},
   "outputs": [
    {
     "name": "stdout",
     "output_type": "stream",
     "text": [
      "[{'id': '03141557-5946-0406-0000-f25ff2556d33', 'status_code': 20000, 'status_message': 'Ok.', 'time': '6.8052 sec.', 'cost': 0.124, 'result_count': 1, 'path': ['v3', 'dataforseo_labs', 'google', 'historical_rank_overview', 'live'], 'data': {'api': 'dataforseo_labs', 'function': 'historical_rank_overview', 'se_type': 'google', 'target': 'lovepop.com', 'location_name': 'United States', 'language_name': 'English', 'date_from': '2021-01-01', 'date_to': '2022-12-31'}, 'result': [{'se_type': 'google', 'target': 'lovepop.com', 'location_code': 2840, 'language_code': 'en', 'total_count': 24, 'items_count': 24, 'items': [{'se_type': 'google', 'year': 2022, 'month': 12, 'metrics': {'organic': {'pos_1': 677, 'pos_2_3': 1112, 'pos_4_10': 4372, 'pos_11_20': 6572, 'pos_21_30': 7211, 'pos_31_40': 7877, 'pos_41_50': 7804, 'pos_51_60': 7585, 'pos_61_70': 7229, 'pos_71_80': 6871, 'pos_81_90': 6715, 'pos_91_100': 4476, 'etv': 745085.0601391569, 'impressions_etv': 58520.26186590642, 'count': 68511, 'estimated_paid_traffic_cost': 2052003.993824624, 'is_new': 27528, 'is_up': 17143, 'is_down': 20655, 'is_lost': 18815}, 'paid': {'pos_1': 47, 'pos_2_3': 5, 'pos_4_10': 0, 'pos_11_20': 0, 'pos_21_30': 0, 'pos_31_40': 0, 'pos_41_50': 0, 'pos_51_60': 0, 'pos_61_70': 0, 'pos_71_80': 0, 'pos_81_90': 0, 'pos_91_100': 0, 'etv': 8199.653734147549, 'impressions_etv': 519.6330796182156, 'count': 52, 'estimated_paid_traffic_cost': 17627.2114956975, 'is_new': 49, 'is_up': 0, 'is_down': 1, 'is_lost': 43}}}, {'se_type': 'google', 'year': 2022, 'month': 11, 'metrics': {'organic': {'pos_1': 631, 'pos_2_3': 1053, 'pos_4_10': 4195, 'pos_11_20': 6500, 'pos_21_30': 6833, 'pos_31_40': 7571, 'pos_41_50': 7500, 'pos_51_60': 7140, 'pos_61_70': 6533, 'pos_71_80': 6118, 'pos_81_90': 5503, 'pos_91_100': 3632, 'etv': 614980.2438674048, 'impressions_etv': 54480.25092233345, 'count': 63209, 'estimated_paid_traffic_cost': 1532791.369298386, 'is_new': 23181, 'is_up': 18600, 'is_down': 18150, 'is_lost': 15171}, 'paid': {'pos_1': 43, 'pos_2_3': 7, 'pos_4_10': 0, 'pos_11_20': 0, 'pos_21_30': 0, 'pos_31_40': 0, 'pos_41_50': 0, 'pos_51_60': 0, 'pos_61_70': 0, 'pos_71_80': 0, 'pos_81_90': 0, 'pos_91_100': 0, 'etv': 9928.938042521477, 'impressions_etv': 5170.634325683117, 'count': 50, 'estimated_paid_traffic_cost': 40066.30236709118, 'is_new': 47, 'is_up': 0, 'is_down': 0, 'is_lost': 31}}}, {'se_type': 'google', 'year': 2022, 'month': 10, 'metrics': {'organic': {'pos_1': 596, 'pos_2_3': 1039, 'pos_4_10': 4099, 'pos_11_20': 6455, 'pos_21_30': 6795, 'pos_31_40': 7191, 'pos_41_50': 6746, 'pos_51_60': 6152, 'pos_61_70': 5549, 'pos_71_80': 4898, 'pos_81_90': 4230, 'pos_91_100': 2575, 'etv': 555263.2591753248, 'impressions_etv': 49439.14624620322, 'count': 56325, 'estimated_paid_traffic_cost': 1112313.523826365, 'is_new': 19427, 'is_up': 14864, 'is_down': 18925, 'is_lost': 15996}, 'paid': {'pos_1': 30, 'pos_2_3': 3, 'pos_4_10': 0, 'pos_11_20': 0, 'pos_21_30': 0, 'pos_31_40': 0, 'pos_41_50': 0, 'pos_51_60': 0, 'pos_61_70': 0, 'pos_71_80': 0, 'pos_81_90': 0, 'pos_91_100': 0, 'etv': 9570.429143190384, 'impressions_etv': 5149.418808251619, 'count': 33, 'estimated_paid_traffic_cost': 12944.025265455246, 'is_new': 31, 'is_up': 0, 'is_down': 0, 'is_lost': 8}}}, {'se_type': 'google', 'year': 2022, 'month': 9, 'metrics': {'organic': {'pos_1': 537, 'pos_2_3': 962, 'pos_4_10': 3827, 'pos_11_20': 6242, 'pos_21_30': 6580, 'pos_31_40': 6594, 'pos_41_50': 5946, 'pos_51_60': 5324, 'pos_61_70': 4864, 'pos_71_80': 3932, 'pos_81_90': 3205, 'pos_91_100': 1845, 'etv': 472396.4765184261, 'impressions_etv': 53219.453628312796, 'count': 49858, 'estimated_paid_traffic_cost': 830853.3386101923, 'is_new': 17269, 'is_up': 14122, 'is_down': 15801, 'is_lost': 14577}, 'paid': {'pos_1': 8, 'pos_2_3': 0, 'pos_4_10': 0, 'pos_11_20': 0, 'pos_21_30': 0, 'pos_31_40': 0, 'pos_41_50': 0, 'pos_51_60': 0, 'pos_61_70': 0, 'pos_71_80': 0, 'pos_81_90': 0, 'pos_91_100': 0, 'etv': 3095.6940495967865, 'impressions_etv': 1848.9271124005318, 'count': 8, 'estimated_paid_traffic_cost': 4085.796940803528, 'is_new': 7, 'is_up': 0, 'is_down': 0, 'is_lost': 38}}}, {'se_type': 'google', 'year': 2022, 'month': 8, 'metrics': {'organic': {'pos_1': 554, 'pos_2_3': 994, 'pos_4_10': 3672, 'pos_11_20': 6234, 'pos_21_30': 6729, 'pos_31_40': 6968, 'pos_41_50': 6131, 'pos_51_60': 5483, 'pos_61_70': 4862, 'pos_71_80': 4003, 'pos_81_90': 3318, 'pos_91_100': 1883, 'etv': 461515.0369215645, 'impressions_etv': 54474.85046136007, 'count': 50831, 'estimated_paid_traffic_cost': 788785.3657510872, 'is_new': 18877, 'is_up': 14428, 'is_down': 15041, 'is_lost': 13796}, 'paid': {'pos_1': 16, 'pos_2_3': 1, 'pos_4_10': 0, 'pos_11_20': 0, 'pos_21_30': 0, 'pos_31_40': 0, 'pos_41_50': 0, 'pos_51_60': 0, 'pos_61_70': 0, 'pos_71_80': 0, 'pos_81_90': 0, 'pos_91_100': 0, 'etv': 2746.205914258957, 'impressions_etv': 1785.3762204051018, 'count': 17, 'estimated_paid_traffic_cost': 3359.2802171707153, 'is_new': 11, 'is_up': 0, 'is_down': 0, 'is_lost': 52}}}, {'se_type': 'google', 'year': 2022, 'month': 7, 'metrics': {'organic': {'pos_1': 582, 'pos_2_3': 906, 'pos_4_10': 3475, 'pos_11_20': 5610, 'pos_21_30': 6413, 'pos_31_40': 6480, 'pos_41_50': 6021, 'pos_51_60': 5217, 'pos_61_70': 4391, 'pos_71_80': 3778, 'pos_81_90': 2986, 'pos_91_100': 1689, 'etv': 412881.4331649672, 'impressions_etv': 43190.799279714, 'count': 47548, 'estimated_paid_traffic_cost': 1063342.1519783386, 'is_new': 19984, 'is_up': 12082, 'is_down': 13577, 'is_lost': 13744}, 'paid': {'pos_1': 49, 'pos_2_3': 5, 'pos_4_10': 0, 'pos_11_20': 0, 'pos_21_30': 0, 'pos_31_40': 0, 'pos_41_50': 0, 'pos_51_60': 0, 'pos_61_70': 0, 'pos_71_80': 0, 'pos_81_90': 0, 'pos_91_100': 0, 'etv': 16129.995009809732, 'impressions_etv': 6591.185849860311, 'count': 54, 'estimated_paid_traffic_cost': 46451.4890550375, 'is_new': 45, 'is_up': 1, 'is_down': 0, 'is_lost': 41}}}, {'se_type': 'google', 'year': 2022, 'month': 6, 'metrics': {'organic': {'pos_1': 639, 'pos_2_3': 890, 'pos_4_10': 3440, 'pos_11_20': 5253, 'pos_21_30': 6291, 'pos_31_40': 6127, 'pos_41_50': 5728, 'pos_51_60': 4959, 'pos_61_70': 4319, 'pos_71_80': 3709, 'pos_81_90': 3144, 'pos_91_100': 1783, 'etv': 474598.8923506811, 'impressions_etv': 49786.26108923089, 'count': 46282, 'estimated_paid_traffic_cost': 1256258.726163684, 'is_new': 46282, 'is_up': 11587, 'is_down': 11456, 'is_lost': 11880}, 'paid': {'pos_1': 52, 'pos_2_3': 2, 'pos_4_10': 1, 'pos_11_20': 0, 'pos_21_30': 0, 'pos_31_40': 0, 'pos_41_50': 0, 'pos_51_60': 0, 'pos_61_70': 0, 'pos_71_80': 0, 'pos_81_90': 0, 'pos_91_100': 0, 'etv': 11034.604105621576, 'impressions_etv': 5194.346728309989, 'count': 55, 'estimated_paid_traffic_cost': 77058.2374600172, 'is_new': 55, 'is_up': 0, 'is_down': 0, 'is_lost': 30}}}, {'se_type': 'google', 'year': 2022, 'month': 5, 'metrics': {'organic': {'pos_1': 676, 'pos_2_3': 888, 'pos_4_10': 3394, 'pos_11_20': 5068, 'pos_21_30': 6064, 'pos_31_40': 5931, 'pos_41_50': 5541, 'pos_51_60': 4746, 'pos_61_70': 4183, 'pos_71_80': 3504, 'pos_81_90': 3048, 'pos_91_100': 1743, 'etv': 504889.6579125058, 'impressions_etv': 50220.01518509351, 'count': 44786, 'estimated_paid_traffic_cost': 1268112.2445392986, 'is_new': 44784, 'is_up': 11460, 'is_down': 10279, 'is_lost': 11516}, 'paid': {'pos_1': 42, 'pos_2_3': 3, 'pos_4_10': 0, 'pos_11_20': 0, 'pos_21_30': 0, 'pos_31_40': 0, 'pos_41_50': 0, 'pos_51_60': 0, 'pos_61_70': 0, 'pos_71_80': 0, 'pos_81_90': 0, 'pos_91_100': 0, 'etv': 10807.122101455927, 'impressions_etv': 4996.04576523602, 'count': 45, 'estimated_paid_traffic_cost': 57197.64793360233, 'is_new': 45, 'is_up': 0, 'is_down': 0, 'is_lost': 29}}}, {'se_type': 'google', 'year': 2022, 'month': 4, 'metrics': {'organic': {'pos_1': 607, 'pos_2_3': 839, 'pos_4_10': 2944, 'pos_11_20': 4836, 'pos_21_30': 5159, 'pos_31_40': 5016, 'pos_41_50': 4579, 'pos_51_60': 4351, 'pos_61_70': 3976, 'pos_71_80': 3458, 'pos_81_90': 2943, 'pos_91_100': 1760, 'etv': 624180.4502648804, 'impressions_etv': 32580.42847463768, 'count': 40468, 'estimated_paid_traffic_cost': 793152.8179018064, 'is_new': 31597, 'is_up': 8006, 'is_down': 10032, 'is_lost': 20640}, 'paid': {'pos_1': 45, 'pos_2_3': 2, 'pos_4_10': 1, 'pos_11_20': 0, 'pos_21_30': 0, 'pos_31_40': 0, 'pos_41_50': 0, 'pos_51_60': 0, 'pos_61_70': 0, 'pos_71_80': 0, 'pos_81_90': 0, 'pos_91_100': 0, 'etv': 5016.782130360603, 'impressions_etv': 1705.530467517674, 'count': 48, 'estimated_paid_traffic_cost': 15563.242857508361, 'is_new': 47, 'is_up': 1, 'is_down': 0, 'is_lost': 39}}}, {'se_type': 'google', 'year': 2022, 'month': 3, 'metrics': {'organic': {'pos_1': 610, 'pos_2_3': 800, 'pos_4_10': 2877, 'pos_11_20': 4739, 'pos_21_30': 4888, 'pos_31_40': 4785, 'pos_41_50': 4899, 'pos_51_60': 4764, 'pos_61_70': 4613, 'pos_71_80': 4237, 'pos_81_90': 3868, 'pos_91_100': 2491, 'etv': 680961.8654501829, 'impressions_etv': 102594.54855549708, 'count': 43571, 'estimated_paid_traffic_cost': 863024.1650260646, 'is_new': 25123, 'is_up': 7313, 'is_down': 11118, 'is_lost': 18988}, 'paid': {'pos_1': 51, 'pos_2_3': 3, 'pos_4_10': 1, 'pos_11_20': 0, 'pos_21_30': 0, 'pos_31_40': 0, 'pos_41_50': 0, 'pos_51_60': 0, 'pos_61_70': 0, 'pos_71_80': 0, 'pos_81_90': 0, 'pos_91_100': 0, 'etv': 5541.689128100872, 'impressions_etv': 6551.806384027004, 'count': 55, 'estimated_paid_traffic_cost': 17251.54897289723, 'is_new': 53, 'is_up': 1, 'is_down': 0, 'is_lost': 40}}}, {'se_type': 'google', 'year': 2022, 'month': 2, 'metrics': {'organic': {'pos_1': 598, 'pos_2_3': 759, 'pos_4_10': 2899, 'pos_11_20': 4898, 'pos_21_30': 5042, 'pos_31_40': 4907, 'pos_41_50': 5107, 'pos_51_60': 5011, 'pos_61_70': 4935, 'pos_71_80': 4617, 'pos_81_90': 4363, 'pos_91_100': 2909, 'etv': 700216.7366716452, 'impressions_etv': 95771.81544929463, 'count': 46045, 'estimated_paid_traffic_cost': 994345.273072112, 'is_new': 26218, 'is_up': 7725, 'is_down': 10789, 'is_lost': 19007}, 'paid': {'pos_1': 48, 'pos_2_3': 3, 'pos_4_10': 1, 'pos_11_20': 0, 'pos_21_30': 0, 'pos_31_40': 0, 'pos_41_50': 0, 'pos_51_60': 0, 'pos_61_70': 0, 'pos_71_80': 0, 'pos_81_90': 0, 'pos_91_100': 0, 'etv': 5249.861128687859, 'impressions_etv': 2121.373426347971, 'count': 52, 'estimated_paid_traffic_cost': 19217.46799635887, 'is_new': 50, 'is_up': 1, 'is_down': 0, 'is_lost': 46}}}, {'se_type': 'google', 'year': 2022, 'month': 1, 'metrics': {'organic': {'pos_1': 552, 'pos_2_3': 719, 'pos_4_10': 2863, 'pos_11_20': 5462, 'pos_21_30': 5310, 'pos_31_40': 5003, 'pos_41_50': 4808, 'pos_51_60': 4734, 'pos_61_70': 4353, 'pos_71_80': 4102, 'pos_81_90': 3845, 'pos_91_100': 2486, 'etv': 637742.968903916, 'impressions_etv': 57452.6048459257, 'count': 44237, 'estimated_paid_traffic_cost': 909043.3834423102, 'is_new': 26263, 'is_up': 8175, 'is_down': 8423, 'is_lost': 17468}, 'paid': {'pos_1': 47, 'pos_2_3': 6, 'pos_4_10': 0, 'pos_11_20': 0, 'pos_21_30': 0, 'pos_31_40': 0, 'pos_41_50': 0, 'pos_51_60': 0, 'pos_61_70': 0, 'pos_71_80': 0, 'pos_81_90': 0, 'pos_91_100': 0, 'etv': 4677.018100857735, 'impressions_etv': 1013.5376858711243, 'count': 53, 'estimated_paid_traffic_cost': 23092.06847770512, 'is_new': 52, 'is_up': 0, 'is_down': 0, 'is_lost': 24}}}, {'se_type': 'google', 'year': 2021, 'month': 12, 'metrics': {'organic': {'pos_1': 508, 'pos_2_3': 689, 'pos_4_10': 2746, 'pos_11_20': 5345, 'pos_21_30': 5168, 'pos_31_40': 4922, 'pos_41_50': 4648, 'pos_51_60': 4600, 'pos_61_70': 4294, 'pos_71_80': 4232, 'pos_81_90': 4061, 'pos_91_100': 2591, 'etv': 634698.2907511089, 'impressions_etv': 54761.560627161525, 'count': 43804, 'estimated_paid_traffic_cost': 941076.0821428765, 'is_new': 7762, 'is_up': 4429, 'is_down': 9983, 'is_lost': 30598}, 'paid': {'pos_1': 44, 'pos_2_3': 9, 'pos_4_10': 1, 'pos_11_20': 0, 'pos_21_30': 0, 'pos_31_40': 0, 'pos_41_50': 0, 'pos_51_60': 0, 'pos_61_70': 0, 'pos_71_80': 0, 'pos_81_90': 0, 'pos_91_100': 0, 'etv': 321.45899963378906, 'impressions_etv': 72.45617935061455, 'count': 54, 'estimated_paid_traffic_cost': 737.0750837959349, 'is_new': 0, 'is_up': 0, 'is_down': 20, 'is_lost': 53}}}, {'se_type': 'google', 'year': 2021, 'month': 11, 'metrics': {'organic': {'pos_1': 440, 'pos_2_3': 629, 'pos_4_10': 2278, 'pos_11_20': 4185, 'pos_21_30': 4171, 'pos_31_40': 3820, 'pos_41_50': 3631, 'pos_51_60': 3520, 'pos_61_70': 3340, 'pos_71_80': 3262, 'pos_81_90': 3050, 'pos_91_100': 1881, 'etv': 650587.0973674897, 'impressions_etv': 34684.22184036579, 'count': 34207, 'estimated_paid_traffic_cost': 949285.7800977975, 'is_new': 401, 'is_up': 2198, 'is_down': 30610, 'is_lost': 3063}, 'paid': {'pos_1': 26, 'pos_2_3': 2, 'pos_4_10': 1, 'pos_11_20': 0, 'pos_21_30': 0, 'pos_31_40': 0, 'pos_41_50': 0, 'pos_51_60': 0, 'pos_61_70': 0, 'pos_71_80': 0, 'pos_81_90': 0, 'pos_91_100': 0, 'etv': 287.73000317811966, 'impressions_etv': 133.94685125350952, 'count': 29, 'estimated_paid_traffic_cost': 586.9412127137184, 'is_new': 0, 'is_up': 9, 'is_down': 28, 'is_lost': 0}}}, {'se_type': 'google', 'year': 2021, 'month': 10, 'metrics': {'organic': {'pos_1': 113, 'pos_2_3': 223, 'pos_4_10': 736, 'pos_11_20': 1175, 'pos_21_30': 1099, 'pos_31_40': 1134, 'pos_41_50': 1029, 'pos_51_60': 1017, 'pos_61_70': 920, 'pos_71_80': 997, 'pos_81_90': 894, 'pos_91_100': 700, 'etv': 247603.53053333238, 'impressions_etv': 18285.719811004587, 'count': 10037, 'estimated_paid_traffic_cost': 376001.98036572494, 'is_new': 0, 'is_up': 0, 'is_down': 8948, 'is_lost': 0}, 'paid': {'pos_1': 54, 'pos_2_3': 13, 'pos_4_10': 0, 'pos_11_20': 0, 'pos_21_30': 0, 'pos_31_40': 0, 'pos_41_50': 0, 'pos_51_60': 0, 'pos_61_70': 0, 'pos_71_80': 0, 'pos_81_90': 0, 'pos_91_100': 0, 'etv': 3725.449764232337, 'impressions_etv': 94.40377214986884, 'count': 67, 'estimated_paid_traffic_cost': 11550.072828220184, 'is_new': 0, 'is_up': 0, 'is_down': 3700, 'is_lost': 0}}}, {'se_type': 'google', 'year': 2021, 'month': 9, 'metrics': {'organic': {'pos_1': 0, 'pos_2_3': 1, 'pos_4_10': 1, 'pos_11_20': 4, 'pos_21_30': 4, 'pos_31_40': 8, 'pos_41_50': 12, 'pos_51_60': 11, 'pos_61_70': 15, 'pos_71_80': 15, 'pos_81_90': 19, 'pos_91_100': 15, 'etv': 10.64100020378828, 'impressions_etv': 1.0475999945774674, 'count': 105, 'estimated_paid_traffic_cost': 10.548838848946616, 'is_new': 0, 'is_up': 0, 'is_down': 92, 'is_lost': 0}, 'paid': {'pos_1': 0, 'pos_2_3': 0, 'pos_4_10': 0, 'pos_11_20': 0, 'pos_21_30': 0, 'pos_31_40': 0, 'pos_41_50': 0, 'pos_51_60': 0, 'pos_61_70': 0, 'pos_71_80': 0, 'pos_81_90': 0, 'pos_91_100': 0, 'etv': 0, 'impressions_etv': 0, 'count': 0, 'estimated_paid_traffic_cost': 0, 'is_new': 0, 'is_up': 0, 'is_down': 0, 'is_lost': 0}}}, {'se_type': 'google', 'year': 2021, 'month': 8, 'metrics': {'organic': None, 'paid': None}}, {'se_type': 'google', 'year': 2021, 'month': 7, 'metrics': {'organic': {'pos_1': 0, 'pos_2_3': 0, 'pos_4_10': 0, 'pos_11_20': 0, 'pos_21_30': 0, 'pos_31_40': 1, 'pos_41_50': 0, 'pos_51_60': 0, 'pos_61_70': 3, 'pos_71_80': 0, 'pos_81_90': 0, 'pos_91_100': 1, 'etv': 5.396999960765243, 'impressions_etv': 0.14112000167369843, 'count': 5, 'estimated_paid_traffic_cost': 10.482354294508696, 'is_new': 0, 'is_up': 1, 'is_down': 2, 'is_lost': 2}, 'paid': {'pos_1': 0, 'pos_2_3': 0, 'pos_4_10': 0, 'pos_11_20': 0, 'pos_21_30': 0, 'pos_31_40': 0, 'pos_41_50': 0, 'pos_51_60': 0, 'pos_61_70': 0, 'pos_71_80': 0, 'pos_81_90': 0, 'pos_91_100': 0, 'etv': 0, 'impressions_etv': 0, 'count': 0, 'estimated_paid_traffic_cost': 0, 'is_new': 0, 'is_up': 0, 'is_down': 0, 'is_lost': 0}}}, {'se_type': 'google', 'year': 2021, 'month': 6, 'metrics': {'organic': {'pos_1': 0, 'pos_2_3': 0, 'pos_4_10': 0, 'pos_11_20': 0, 'pos_21_30': 0, 'pos_31_40': 2, 'pos_41_50': 0, 'pos_51_60': 1, 'pos_61_70': 4, 'pos_71_80': 1, 'pos_81_90': 0, 'pos_91_100': 1, 'etv': 2.7036934389436436, 'impressions_etv': 0.351547484213035, 'count': 9, 'estimated_paid_traffic_cost': 4.2321429060118225, 'is_new': 91, 'is_up': 3, 'is_down': 1, 'is_lost': 9}, 'paid': {'pos_1': 0, 'pos_2_3': 0, 'pos_4_10': 0, 'pos_11_20': 0, 'pos_21_30': 0, 'pos_31_40': 0, 'pos_41_50': 0, 'pos_51_60': 0, 'pos_61_70': 0, 'pos_71_80': 0, 'pos_81_90': 0, 'pos_91_100': 0, 'etv': 0, 'impressions_etv': 0, 'count': 0, 'estimated_paid_traffic_cost': 0, 'is_new': 0, 'is_up': 0, 'is_down': 0, 'is_lost': 0}}}, {'se_type': 'google', 'year': 2021, 'month': 5, 'metrics': {'organic': {'pos_1': 0, 'pos_2_3': 0, 'pos_4_10': 0, 'pos_11_20': 3, 'pos_21_30': 5, 'pos_31_40': 5, 'pos_41_50': 1, 'pos_51_60': 8, 'pos_61_70': 7, 'pos_71_80': 3, 'pos_81_90': 7, 'pos_91_100': 11, 'etv': 4.06872, 'impressions_etv': 0.8378118000000001, 'count': 50, 'estimated_paid_traffic_cost': 6.24408236298, 'is_new': 114, 'is_up': 18, 'is_down': 12, 'is_lost': 17}, 'paid': {'pos_1': 0, 'pos_2_3': 0, 'pos_4_10': 0, 'pos_11_20': 0, 'pos_21_30': 0, 'pos_31_40': 0, 'pos_41_50': 0, 'pos_51_60': 0, 'pos_61_70': 0, 'pos_71_80': 0, 'pos_81_90': 0, 'pos_91_100': 0, 'etv': 0, 'impressions_etv': 0, 'count': 0, 'estimated_paid_traffic_cost': 0, 'is_new': 0, 'is_up': 0, 'is_down': 0, 'is_lost': 0}}}, {'se_type': 'google', 'year': 2021, 'month': 4, 'metrics': {'organic': {'pos_1': 0, 'pos_2_3': 0, 'pos_4_10': 4, 'pos_11_20': 18, 'pos_21_30': 11, 'pos_31_40': 22, 'pos_41_50': 19, 'pos_51_60': 23, 'pos_61_70': 26, 'pos_71_80': 25, 'pos_81_90': 21, 'pos_91_100': 21, 'etv': 89.36425946594517, 'impressions_etv': 15.1610278917183, 'count': 190, 'estimated_paid_traffic_cost': 286.752340230807, 'is_new': 0, 'is_up': 235, 'is_down': 0, 'is_lost': 0}, 'paid': {'pos_1': 0, 'pos_2_3': 0, 'pos_4_10': 0, 'pos_11_20': 0, 'pos_21_30': 0, 'pos_31_40': 0, 'pos_41_50': 0, 'pos_51_60': 0, 'pos_61_70': 0, 'pos_71_80': 0, 'pos_81_90': 0, 'pos_91_100': 0, 'etv': 0, 'impressions_etv': 0, 'count': 0, 'estimated_paid_traffic_cost': 0, 'is_new': 0, 'is_up': 0, 'is_down': 0, 'is_lost': 0}}}, {'se_type': 'google', 'year': 2021, 'month': 3, 'metrics': {'organic': {'pos_1': 0, 'pos_2_3': 0, 'pos_4_10': 5, 'pos_11_20': 29, 'pos_21_30': 18, 'pos_31_40': 26, 'pos_41_50': 39, 'pos_51_60': 37, 'pos_61_70': 38, 'pos_71_80': 41, 'pos_81_90': 32, 'pos_91_100': 28, 'etv': 221.68726633488833, 'impressions_etv': 67.83859912196097, 'count': 293, 'estimated_paid_traffic_cost': 327.6228795031952, 'is_new': 0, 'is_up': 432, 'is_down': 0, 'is_lost': 0}, 'paid': {'pos_1': 0, 'pos_2_3': 0, 'pos_4_10': 0, 'pos_11_20': 0, 'pos_21_30': 0, 'pos_31_40': 0, 'pos_41_50': 0, 'pos_51_60': 0, 'pos_61_70': 0, 'pos_71_80': 0, 'pos_81_90': 0, 'pos_91_100': 0, 'etv': 0, 'impressions_etv': 0, 'count': 0, 'estimated_paid_traffic_cost': 0, 'is_new': 0, 'is_up': 0, 'is_down': 0, 'is_lost': 0}}}, {'se_type': 'google', 'year': 2021, 'month': 2, 'metrics': {'organic': {'pos_1': 0, 'pos_2_3': 1, 'pos_4_10': 6, 'pos_11_20': 27, 'pos_21_30': 17, 'pos_31_40': 27, 'pos_41_50': 43, 'pos_51_60': 46, 'pos_61_70': 37, 'pos_71_80': 41, 'pos_81_90': 32, 'pos_91_100': 26, 'etv': 228.11818800075724, 'impressions_etv': 72.38376257446497, 'count': 303, 'estimated_paid_traffic_cost': 313.2367321219683, 'is_new': 0, 'is_up': 442, 'is_down': 0, 'is_lost': 0}, 'paid': {'pos_1': 0, 'pos_2_3': 0, 'pos_4_10': 0, 'pos_11_20': 0, 'pos_21_30': 0, 'pos_31_40': 0, 'pos_41_50': 0, 'pos_51_60': 0, 'pos_61_70': 0, 'pos_71_80': 0, 'pos_81_90': 0, 'pos_91_100': 0, 'etv': 0, 'impressions_etv': 0, 'count': 0, 'estimated_paid_traffic_cost': 0, 'is_new': 0, 'is_up': 0, 'is_down': 0, 'is_lost': 0}}}, {'se_type': 'google', 'year': 2021, 'month': 1, 'metrics': {'organic': {'pos_1': 1, 'pos_2_3': 1, 'pos_4_10': 7, 'pos_11_20': 20, 'pos_21_30': 20, 'pos_31_40': 26, 'pos_41_50': 32, 'pos_51_60': 37, 'pos_61_70': 47, 'pos_71_80': 35, 'pos_81_90': 28, 'pos_91_100': 25, 'etv': 162.15490847536657, 'impressions_etv': 31.906744240954602, 'count': 279, 'estimated_paid_traffic_cost': 204.2672411408583, 'is_new': 233, 'is_up': 0, 'is_down': 0, 'is_lost': 0}, 'paid': {'pos_1': 0, 'pos_2_3': 0, 'pos_4_10': 0, 'pos_11_20': 0, 'pos_21_30': 0, 'pos_31_40': 0, 'pos_41_50': 0, 'pos_51_60': 0, 'pos_61_70': 0, 'pos_71_80': 0, 'pos_81_90': 0, 'pos_91_100': 0, 'etv': 0, 'impressions_etv': 0, 'count': 0, 'estimated_paid_traffic_cost': 0, 'is_new': 0, 'is_up': 0, 'is_down': 0, 'is_lost': 0}}}]}]}]\n"
     ]
    }
   ],
   "source": [
    "tasks =  (response['tasks'])\n",
    "\n",
    "print(tasks)"
   ]
  },
  {
   "cell_type": "code",
   "execution_count": 13,
   "id": "e6fd2b94",
   "metadata": {},
   "outputs": [],
   "source": [
    "import pandas as pd\n",
    "import gspread\n",
    "from oauth2client.service_account import ServiceAccountCredentials\n",
    "from pandas.io.json import json_normalize\n",
    "import json"
   ]
  },
  {
   "cell_type": "code",
   "execution_count": 14,
   "id": "89b9de0f",
   "metadata": {},
   "outputs": [
    {
     "name": "stdout",
     "output_type": "stream",
     "text": [
      "<class 'list'>\n"
     ]
    }
   ],
   "source": [
    "print(type(tasks))"
   ]
  },
  {
   "cell_type": "code",
   "execution_count": 64,
   "id": "84d5e09d",
   "metadata": {},
   "outputs": [],
   "source": [
    "#df = pd.DataFrame.from_dict(response)\n",
    "#df"
   ]
  },
  {
   "cell_type": "code",
   "execution_count": 65,
   "id": "afd726b2",
   "metadata": {},
   "outputs": [],
   "source": [
    "#print(type(df))"
   ]
  },
  {
   "cell_type": "code",
   "execution_count": 15,
   "id": "a51265b4",
   "metadata": {},
   "outputs": [
    {
     "name": "stdout",
     "output_type": "stream",
     "text": [
      "[{'id': '03141557-5946-0406-0000-f25ff2556d33', 'status_code': 20000, 'status_message': 'Ok.', 'time': '6.8052 sec.', 'cost': 0.124, 'result_count': 1, 'path': ['v3', 'dataforseo_labs', 'google', 'historical_rank_overview', 'live'], 'data': {'api': 'dataforseo_labs', 'function': 'historical_rank_overview', 'se_type': 'google', 'target': 'lovepop.com', 'location_name': 'United States', 'language_name': 'English', 'date_from': '2021-01-01', 'date_to': '2022-12-31'}, 'result': [{'se_type': 'google', 'target': 'lovepop.com', 'location_code': 2840, 'language_code': 'en', 'total_count': 24, 'items_count': 24, 'items': [{'se_type': 'google', 'year': 2022, 'month': 12, 'metrics': {'organic': {'pos_1': 677, 'pos_2_3': 1112, 'pos_4_10': 4372, 'pos_11_20': 6572, 'pos_21_30': 7211, 'pos_31_40': 7877, 'pos_41_50': 7804, 'pos_51_60': 7585, 'pos_61_70': 7229, 'pos_71_80': 6871, 'pos_81_90': 6715, 'pos_91_100': 4476, 'etv': 745085.0601391569, 'impressions_etv': 58520.26186590642, 'count': 68511, 'estimated_paid_traffic_cost': 2052003.993824624, 'is_new': 27528, 'is_up': 17143, 'is_down': 20655, 'is_lost': 18815}, 'paid': {'pos_1': 47, 'pos_2_3': 5, 'pos_4_10': 0, 'pos_11_20': 0, 'pos_21_30': 0, 'pos_31_40': 0, 'pos_41_50': 0, 'pos_51_60': 0, 'pos_61_70': 0, 'pos_71_80': 0, 'pos_81_90': 0, 'pos_91_100': 0, 'etv': 8199.653734147549, 'impressions_etv': 519.6330796182156, 'count': 52, 'estimated_paid_traffic_cost': 17627.2114956975, 'is_new': 49, 'is_up': 0, 'is_down': 1, 'is_lost': 43}}}, {'se_type': 'google', 'year': 2022, 'month': 11, 'metrics': {'organic': {'pos_1': 631, 'pos_2_3': 1053, 'pos_4_10': 4195, 'pos_11_20': 6500, 'pos_21_30': 6833, 'pos_31_40': 7571, 'pos_41_50': 7500, 'pos_51_60': 7140, 'pos_61_70': 6533, 'pos_71_80': 6118, 'pos_81_90': 5503, 'pos_91_100': 3632, 'etv': 614980.2438674048, 'impressions_etv': 54480.25092233345, 'count': 63209, 'estimated_paid_traffic_cost': 1532791.369298386, 'is_new': 23181, 'is_up': 18600, 'is_down': 18150, 'is_lost': 15171}, 'paid': {'pos_1': 43, 'pos_2_3': 7, 'pos_4_10': 0, 'pos_11_20': 0, 'pos_21_30': 0, 'pos_31_40': 0, 'pos_41_50': 0, 'pos_51_60': 0, 'pos_61_70': 0, 'pos_71_80': 0, 'pos_81_90': 0, 'pos_91_100': 0, 'etv': 9928.938042521477, 'impressions_etv': 5170.634325683117, 'count': 50, 'estimated_paid_traffic_cost': 40066.30236709118, 'is_new': 47, 'is_up': 0, 'is_down': 0, 'is_lost': 31}}}, {'se_type': 'google', 'year': 2022, 'month': 10, 'metrics': {'organic': {'pos_1': 596, 'pos_2_3': 1039, 'pos_4_10': 4099, 'pos_11_20': 6455, 'pos_21_30': 6795, 'pos_31_40': 7191, 'pos_41_50': 6746, 'pos_51_60': 6152, 'pos_61_70': 5549, 'pos_71_80': 4898, 'pos_81_90': 4230, 'pos_91_100': 2575, 'etv': 555263.2591753248, 'impressions_etv': 49439.14624620322, 'count': 56325, 'estimated_paid_traffic_cost': 1112313.523826365, 'is_new': 19427, 'is_up': 14864, 'is_down': 18925, 'is_lost': 15996}, 'paid': {'pos_1': 30, 'pos_2_3': 3, 'pos_4_10': 0, 'pos_11_20': 0, 'pos_21_30': 0, 'pos_31_40': 0, 'pos_41_50': 0, 'pos_51_60': 0, 'pos_61_70': 0, 'pos_71_80': 0, 'pos_81_90': 0, 'pos_91_100': 0, 'etv': 9570.429143190384, 'impressions_etv': 5149.418808251619, 'count': 33, 'estimated_paid_traffic_cost': 12944.025265455246, 'is_new': 31, 'is_up': 0, 'is_down': 0, 'is_lost': 8}}}, {'se_type': 'google', 'year': 2022, 'month': 9, 'metrics': {'organic': {'pos_1': 537, 'pos_2_3': 962, 'pos_4_10': 3827, 'pos_11_20': 6242, 'pos_21_30': 6580, 'pos_31_40': 6594, 'pos_41_50': 5946, 'pos_51_60': 5324, 'pos_61_70': 4864, 'pos_71_80': 3932, 'pos_81_90': 3205, 'pos_91_100': 1845, 'etv': 472396.4765184261, 'impressions_etv': 53219.453628312796, 'count': 49858, 'estimated_paid_traffic_cost': 830853.3386101923, 'is_new': 17269, 'is_up': 14122, 'is_down': 15801, 'is_lost': 14577}, 'paid': {'pos_1': 8, 'pos_2_3': 0, 'pos_4_10': 0, 'pos_11_20': 0, 'pos_21_30': 0, 'pos_31_40': 0, 'pos_41_50': 0, 'pos_51_60': 0, 'pos_61_70': 0, 'pos_71_80': 0, 'pos_81_90': 0, 'pos_91_100': 0, 'etv': 3095.6940495967865, 'impressions_etv': 1848.9271124005318, 'count': 8, 'estimated_paid_traffic_cost': 4085.796940803528, 'is_new': 7, 'is_up': 0, 'is_down': 0, 'is_lost': 38}}}, {'se_type': 'google', 'year': 2022, 'month': 8, 'metrics': {'organic': {'pos_1': 554, 'pos_2_3': 994, 'pos_4_10': 3672, 'pos_11_20': 6234, 'pos_21_30': 6729, 'pos_31_40': 6968, 'pos_41_50': 6131, 'pos_51_60': 5483, 'pos_61_70': 4862, 'pos_71_80': 4003, 'pos_81_90': 3318, 'pos_91_100': 1883, 'etv': 461515.0369215645, 'impressions_etv': 54474.85046136007, 'count': 50831, 'estimated_paid_traffic_cost': 788785.3657510872, 'is_new': 18877, 'is_up': 14428, 'is_down': 15041, 'is_lost': 13796}, 'paid': {'pos_1': 16, 'pos_2_3': 1, 'pos_4_10': 0, 'pos_11_20': 0, 'pos_21_30': 0, 'pos_31_40': 0, 'pos_41_50': 0, 'pos_51_60': 0, 'pos_61_70': 0, 'pos_71_80': 0, 'pos_81_90': 0, 'pos_91_100': 0, 'etv': 2746.205914258957, 'impressions_etv': 1785.3762204051018, 'count': 17, 'estimated_paid_traffic_cost': 3359.2802171707153, 'is_new': 11, 'is_up': 0, 'is_down': 0, 'is_lost': 52}}}, {'se_type': 'google', 'year': 2022, 'month': 7, 'metrics': {'organic': {'pos_1': 582, 'pos_2_3': 906, 'pos_4_10': 3475, 'pos_11_20': 5610, 'pos_21_30': 6413, 'pos_31_40': 6480, 'pos_41_50': 6021, 'pos_51_60': 5217, 'pos_61_70': 4391, 'pos_71_80': 3778, 'pos_81_90': 2986, 'pos_91_100': 1689, 'etv': 412881.4331649672, 'impressions_etv': 43190.799279714, 'count': 47548, 'estimated_paid_traffic_cost': 1063342.1519783386, 'is_new': 19984, 'is_up': 12082, 'is_down': 13577, 'is_lost': 13744}, 'paid': {'pos_1': 49, 'pos_2_3': 5, 'pos_4_10': 0, 'pos_11_20': 0, 'pos_21_30': 0, 'pos_31_40': 0, 'pos_41_50': 0, 'pos_51_60': 0, 'pos_61_70': 0, 'pos_71_80': 0, 'pos_81_90': 0, 'pos_91_100': 0, 'etv': 16129.995009809732, 'impressions_etv': 6591.185849860311, 'count': 54, 'estimated_paid_traffic_cost': 46451.4890550375, 'is_new': 45, 'is_up': 1, 'is_down': 0, 'is_lost': 41}}}, {'se_type': 'google', 'year': 2022, 'month': 6, 'metrics': {'organic': {'pos_1': 639, 'pos_2_3': 890, 'pos_4_10': 3440, 'pos_11_20': 5253, 'pos_21_30': 6291, 'pos_31_40': 6127, 'pos_41_50': 5728, 'pos_51_60': 4959, 'pos_61_70': 4319, 'pos_71_80': 3709, 'pos_81_90': 3144, 'pos_91_100': 1783, 'etv': 474598.8923506811, 'impressions_etv': 49786.26108923089, 'count': 46282, 'estimated_paid_traffic_cost': 1256258.726163684, 'is_new': 46282, 'is_up': 11587, 'is_down': 11456, 'is_lost': 11880}, 'paid': {'pos_1': 52, 'pos_2_3': 2, 'pos_4_10': 1, 'pos_11_20': 0, 'pos_21_30': 0, 'pos_31_40': 0, 'pos_41_50': 0, 'pos_51_60': 0, 'pos_61_70': 0, 'pos_71_80': 0, 'pos_81_90': 0, 'pos_91_100': 0, 'etv': 11034.604105621576, 'impressions_etv': 5194.346728309989, 'count': 55, 'estimated_paid_traffic_cost': 77058.2374600172, 'is_new': 55, 'is_up': 0, 'is_down': 0, 'is_lost': 30}}}, {'se_type': 'google', 'year': 2022, 'month': 5, 'metrics': {'organic': {'pos_1': 676, 'pos_2_3': 888, 'pos_4_10': 3394, 'pos_11_20': 5068, 'pos_21_30': 6064, 'pos_31_40': 5931, 'pos_41_50': 5541, 'pos_51_60': 4746, 'pos_61_70': 4183, 'pos_71_80': 3504, 'pos_81_90': 3048, 'pos_91_100': 1743, 'etv': 504889.6579125058, 'impressions_etv': 50220.01518509351, 'count': 44786, 'estimated_paid_traffic_cost': 1268112.2445392986, 'is_new': 44784, 'is_up': 11460, 'is_down': 10279, 'is_lost': 11516}, 'paid': {'pos_1': 42, 'pos_2_3': 3, 'pos_4_10': 0, 'pos_11_20': 0, 'pos_21_30': 0, 'pos_31_40': 0, 'pos_41_50': 0, 'pos_51_60': 0, 'pos_61_70': 0, 'pos_71_80': 0, 'pos_81_90': 0, 'pos_91_100': 0, 'etv': 10807.122101455927, 'impressions_etv': 4996.04576523602, 'count': 45, 'estimated_paid_traffic_cost': 57197.64793360233, 'is_new': 45, 'is_up': 0, 'is_down': 0, 'is_lost': 29}}}, {'se_type': 'google', 'year': 2022, 'month': 4, 'metrics': {'organic': {'pos_1': 607, 'pos_2_3': 839, 'pos_4_10': 2944, 'pos_11_20': 4836, 'pos_21_30': 5159, 'pos_31_40': 5016, 'pos_41_50': 4579, 'pos_51_60': 4351, 'pos_61_70': 3976, 'pos_71_80': 3458, 'pos_81_90': 2943, 'pos_91_100': 1760, 'etv': 624180.4502648804, 'impressions_etv': 32580.42847463768, 'count': 40468, 'estimated_paid_traffic_cost': 793152.8179018064, 'is_new': 31597, 'is_up': 8006, 'is_down': 10032, 'is_lost': 20640}, 'paid': {'pos_1': 45, 'pos_2_3': 2, 'pos_4_10': 1, 'pos_11_20': 0, 'pos_21_30': 0, 'pos_31_40': 0, 'pos_41_50': 0, 'pos_51_60': 0, 'pos_61_70': 0, 'pos_71_80': 0, 'pos_81_90': 0, 'pos_91_100': 0, 'etv': 5016.782130360603, 'impressions_etv': 1705.530467517674, 'count': 48, 'estimated_paid_traffic_cost': 15563.242857508361, 'is_new': 47, 'is_up': 1, 'is_down': 0, 'is_lost': 39}}}, {'se_type': 'google', 'year': 2022, 'month': 3, 'metrics': {'organic': {'pos_1': 610, 'pos_2_3': 800, 'pos_4_10': 2877, 'pos_11_20': 4739, 'pos_21_30': 4888, 'pos_31_40': 4785, 'pos_41_50': 4899, 'pos_51_60': 4764, 'pos_61_70': 4613, 'pos_71_80': 4237, 'pos_81_90': 3868, 'pos_91_100': 2491, 'etv': 680961.8654501829, 'impressions_etv': 102594.54855549708, 'count': 43571, 'estimated_paid_traffic_cost': 863024.1650260646, 'is_new': 25123, 'is_up': 7313, 'is_down': 11118, 'is_lost': 18988}, 'paid': {'pos_1': 51, 'pos_2_3': 3, 'pos_4_10': 1, 'pos_11_20': 0, 'pos_21_30': 0, 'pos_31_40': 0, 'pos_41_50': 0, 'pos_51_60': 0, 'pos_61_70': 0, 'pos_71_80': 0, 'pos_81_90': 0, 'pos_91_100': 0, 'etv': 5541.689128100872, 'impressions_etv': 6551.806384027004, 'count': 55, 'estimated_paid_traffic_cost': 17251.54897289723, 'is_new': 53, 'is_up': 1, 'is_down': 0, 'is_lost': 40}}}, {'se_type': 'google', 'year': 2022, 'month': 2, 'metrics': {'organic': {'pos_1': 598, 'pos_2_3': 759, 'pos_4_10': 2899, 'pos_11_20': 4898, 'pos_21_30': 5042, 'pos_31_40': 4907, 'pos_41_50': 5107, 'pos_51_60': 5011, 'pos_61_70': 4935, 'pos_71_80': 4617, 'pos_81_90': 4363, 'pos_91_100': 2909, 'etv': 700216.7366716452, 'impressions_etv': 95771.81544929463, 'count': 46045, 'estimated_paid_traffic_cost': 994345.273072112, 'is_new': 26218, 'is_up': 7725, 'is_down': 10789, 'is_lost': 19007}, 'paid': {'pos_1': 48, 'pos_2_3': 3, 'pos_4_10': 1, 'pos_11_20': 0, 'pos_21_30': 0, 'pos_31_40': 0, 'pos_41_50': 0, 'pos_51_60': 0, 'pos_61_70': 0, 'pos_71_80': 0, 'pos_81_90': 0, 'pos_91_100': 0, 'etv': 5249.861128687859, 'impressions_etv': 2121.373426347971, 'count': 52, 'estimated_paid_traffic_cost': 19217.46799635887, 'is_new': 50, 'is_up': 1, 'is_down': 0, 'is_lost': 46}}}, {'se_type': 'google', 'year': 2022, 'month': 1, 'metrics': {'organic': {'pos_1': 552, 'pos_2_3': 719, 'pos_4_10': 2863, 'pos_11_20': 5462, 'pos_21_30': 5310, 'pos_31_40': 5003, 'pos_41_50': 4808, 'pos_51_60': 4734, 'pos_61_70': 4353, 'pos_71_80': 4102, 'pos_81_90': 3845, 'pos_91_100': 2486, 'etv': 637742.968903916, 'impressions_etv': 57452.6048459257, 'count': 44237, 'estimated_paid_traffic_cost': 909043.3834423102, 'is_new': 26263, 'is_up': 8175, 'is_down': 8423, 'is_lost': 17468}, 'paid': {'pos_1': 47, 'pos_2_3': 6, 'pos_4_10': 0, 'pos_11_20': 0, 'pos_21_30': 0, 'pos_31_40': 0, 'pos_41_50': 0, 'pos_51_60': 0, 'pos_61_70': 0, 'pos_71_80': 0, 'pos_81_90': 0, 'pos_91_100': 0, 'etv': 4677.018100857735, 'impressions_etv': 1013.5376858711243, 'count': 53, 'estimated_paid_traffic_cost': 23092.06847770512, 'is_new': 52, 'is_up': 0, 'is_down': 0, 'is_lost': 24}}}, {'se_type': 'google', 'year': 2021, 'month': 12, 'metrics': {'organic': {'pos_1': 508, 'pos_2_3': 689, 'pos_4_10': 2746, 'pos_11_20': 5345, 'pos_21_30': 5168, 'pos_31_40': 4922, 'pos_41_50': 4648, 'pos_51_60': 4600, 'pos_61_70': 4294, 'pos_71_80': 4232, 'pos_81_90': 4061, 'pos_91_100': 2591, 'etv': 634698.2907511089, 'impressions_etv': 54761.560627161525, 'count': 43804, 'estimated_paid_traffic_cost': 941076.0821428765, 'is_new': 7762, 'is_up': 4429, 'is_down': 9983, 'is_lost': 30598}, 'paid': {'pos_1': 44, 'pos_2_3': 9, 'pos_4_10': 1, 'pos_11_20': 0, 'pos_21_30': 0, 'pos_31_40': 0, 'pos_41_50': 0, 'pos_51_60': 0, 'pos_61_70': 0, 'pos_71_80': 0, 'pos_81_90': 0, 'pos_91_100': 0, 'etv': 321.45899963378906, 'impressions_etv': 72.45617935061455, 'count': 54, 'estimated_paid_traffic_cost': 737.0750837959349, 'is_new': 0, 'is_up': 0, 'is_down': 20, 'is_lost': 53}}}, {'se_type': 'google', 'year': 2021, 'month': 11, 'metrics': {'organic': {'pos_1': 440, 'pos_2_3': 629, 'pos_4_10': 2278, 'pos_11_20': 4185, 'pos_21_30': 4171, 'pos_31_40': 3820, 'pos_41_50': 3631, 'pos_51_60': 3520, 'pos_61_70': 3340, 'pos_71_80': 3262, 'pos_81_90': 3050, 'pos_91_100': 1881, 'etv': 650587.0973674897, 'impressions_etv': 34684.22184036579, 'count': 34207, 'estimated_paid_traffic_cost': 949285.7800977975, 'is_new': 401, 'is_up': 2198, 'is_down': 30610, 'is_lost': 3063}, 'paid': {'pos_1': 26, 'pos_2_3': 2, 'pos_4_10': 1, 'pos_11_20': 0, 'pos_21_30': 0, 'pos_31_40': 0, 'pos_41_50': 0, 'pos_51_60': 0, 'pos_61_70': 0, 'pos_71_80': 0, 'pos_81_90': 0, 'pos_91_100': 0, 'etv': 287.73000317811966, 'impressions_etv': 133.94685125350952, 'count': 29, 'estimated_paid_traffic_cost': 586.9412127137184, 'is_new': 0, 'is_up': 9, 'is_down': 28, 'is_lost': 0}}}, {'se_type': 'google', 'year': 2021, 'month': 10, 'metrics': {'organic': {'pos_1': 113, 'pos_2_3': 223, 'pos_4_10': 736, 'pos_11_20': 1175, 'pos_21_30': 1099, 'pos_31_40': 1134, 'pos_41_50': 1029, 'pos_51_60': 1017, 'pos_61_70': 920, 'pos_71_80': 997, 'pos_81_90': 894, 'pos_91_100': 700, 'etv': 247603.53053333238, 'impressions_etv': 18285.719811004587, 'count': 10037, 'estimated_paid_traffic_cost': 376001.98036572494, 'is_new': 0, 'is_up': 0, 'is_down': 8948, 'is_lost': 0}, 'paid': {'pos_1': 54, 'pos_2_3': 13, 'pos_4_10': 0, 'pos_11_20': 0, 'pos_21_30': 0, 'pos_31_40': 0, 'pos_41_50': 0, 'pos_51_60': 0, 'pos_61_70': 0, 'pos_71_80': 0, 'pos_81_90': 0, 'pos_91_100': 0, 'etv': 3725.449764232337, 'impressions_etv': 94.40377214986884, 'count': 67, 'estimated_paid_traffic_cost': 11550.072828220184, 'is_new': 0, 'is_up': 0, 'is_down': 3700, 'is_lost': 0}}}, {'se_type': 'google', 'year': 2021, 'month': 9, 'metrics': {'organic': {'pos_1': 0, 'pos_2_3': 1, 'pos_4_10': 1, 'pos_11_20': 4, 'pos_21_30': 4, 'pos_31_40': 8, 'pos_41_50': 12, 'pos_51_60': 11, 'pos_61_70': 15, 'pos_71_80': 15, 'pos_81_90': 19, 'pos_91_100': 15, 'etv': 10.64100020378828, 'impressions_etv': 1.0475999945774674, 'count': 105, 'estimated_paid_traffic_cost': 10.548838848946616, 'is_new': 0, 'is_up': 0, 'is_down': 92, 'is_lost': 0}, 'paid': {'pos_1': 0, 'pos_2_3': 0, 'pos_4_10': 0, 'pos_11_20': 0, 'pos_21_30': 0, 'pos_31_40': 0, 'pos_41_50': 0, 'pos_51_60': 0, 'pos_61_70': 0, 'pos_71_80': 0, 'pos_81_90': 0, 'pos_91_100': 0, 'etv': 0, 'impressions_etv': 0, 'count': 0, 'estimated_paid_traffic_cost': 0, 'is_new': 0, 'is_up': 0, 'is_down': 0, 'is_lost': 0}}}, {'se_type': 'google', 'year': 2021, 'month': 8, 'metrics': {'organic': None, 'paid': None}}, {'se_type': 'google', 'year': 2021, 'month': 7, 'metrics': {'organic': {'pos_1': 0, 'pos_2_3': 0, 'pos_4_10': 0, 'pos_11_20': 0, 'pos_21_30': 0, 'pos_31_40': 1, 'pos_41_50': 0, 'pos_51_60': 0, 'pos_61_70': 3, 'pos_71_80': 0, 'pos_81_90': 0, 'pos_91_100': 1, 'etv': 5.396999960765243, 'impressions_etv': 0.14112000167369843, 'count': 5, 'estimated_paid_traffic_cost': 10.482354294508696, 'is_new': 0, 'is_up': 1, 'is_down': 2, 'is_lost': 2}, 'paid': {'pos_1': 0, 'pos_2_3': 0, 'pos_4_10': 0, 'pos_11_20': 0, 'pos_21_30': 0, 'pos_31_40': 0, 'pos_41_50': 0, 'pos_51_60': 0, 'pos_61_70': 0, 'pos_71_80': 0, 'pos_81_90': 0, 'pos_91_100': 0, 'etv': 0, 'impressions_etv': 0, 'count': 0, 'estimated_paid_traffic_cost': 0, 'is_new': 0, 'is_up': 0, 'is_down': 0, 'is_lost': 0}}}, {'se_type': 'google', 'year': 2021, 'month': 6, 'metrics': {'organic': {'pos_1': 0, 'pos_2_3': 0, 'pos_4_10': 0, 'pos_11_20': 0, 'pos_21_30': 0, 'pos_31_40': 2, 'pos_41_50': 0, 'pos_51_60': 1, 'pos_61_70': 4, 'pos_71_80': 1, 'pos_81_90': 0, 'pos_91_100': 1, 'etv': 2.7036934389436436, 'impressions_etv': 0.351547484213035, 'count': 9, 'estimated_paid_traffic_cost': 4.2321429060118225, 'is_new': 91, 'is_up': 3, 'is_down': 1, 'is_lost': 9}, 'paid': {'pos_1': 0, 'pos_2_3': 0, 'pos_4_10': 0, 'pos_11_20': 0, 'pos_21_30': 0, 'pos_31_40': 0, 'pos_41_50': 0, 'pos_51_60': 0, 'pos_61_70': 0, 'pos_71_80': 0, 'pos_81_90': 0, 'pos_91_100': 0, 'etv': 0, 'impressions_etv': 0, 'count': 0, 'estimated_paid_traffic_cost': 0, 'is_new': 0, 'is_up': 0, 'is_down': 0, 'is_lost': 0}}}, {'se_type': 'google', 'year': 2021, 'month': 5, 'metrics': {'organic': {'pos_1': 0, 'pos_2_3': 0, 'pos_4_10': 0, 'pos_11_20': 3, 'pos_21_30': 5, 'pos_31_40': 5, 'pos_41_50': 1, 'pos_51_60': 8, 'pos_61_70': 7, 'pos_71_80': 3, 'pos_81_90': 7, 'pos_91_100': 11, 'etv': 4.06872, 'impressions_etv': 0.8378118000000001, 'count': 50, 'estimated_paid_traffic_cost': 6.24408236298, 'is_new': 114, 'is_up': 18, 'is_down': 12, 'is_lost': 17}, 'paid': {'pos_1': 0, 'pos_2_3': 0, 'pos_4_10': 0, 'pos_11_20': 0, 'pos_21_30': 0, 'pos_31_40': 0, 'pos_41_50': 0, 'pos_51_60': 0, 'pos_61_70': 0, 'pos_71_80': 0, 'pos_81_90': 0, 'pos_91_100': 0, 'etv': 0, 'impressions_etv': 0, 'count': 0, 'estimated_paid_traffic_cost': 0, 'is_new': 0, 'is_up': 0, 'is_down': 0, 'is_lost': 0}}}, {'se_type': 'google', 'year': 2021, 'month': 4, 'metrics': {'organic': {'pos_1': 0, 'pos_2_3': 0, 'pos_4_10': 4, 'pos_11_20': 18, 'pos_21_30': 11, 'pos_31_40': 22, 'pos_41_50': 19, 'pos_51_60': 23, 'pos_61_70': 26, 'pos_71_80': 25, 'pos_81_90': 21, 'pos_91_100': 21, 'etv': 89.36425946594517, 'impressions_etv': 15.1610278917183, 'count': 190, 'estimated_paid_traffic_cost': 286.752340230807, 'is_new': 0, 'is_up': 235, 'is_down': 0, 'is_lost': 0}, 'paid': {'pos_1': 0, 'pos_2_3': 0, 'pos_4_10': 0, 'pos_11_20': 0, 'pos_21_30': 0, 'pos_31_40': 0, 'pos_41_50': 0, 'pos_51_60': 0, 'pos_61_70': 0, 'pos_71_80': 0, 'pos_81_90': 0, 'pos_91_100': 0, 'etv': 0, 'impressions_etv': 0, 'count': 0, 'estimated_paid_traffic_cost': 0, 'is_new': 0, 'is_up': 0, 'is_down': 0, 'is_lost': 0}}}, {'se_type': 'google', 'year': 2021, 'month': 3, 'metrics': {'organic': {'pos_1': 0, 'pos_2_3': 0, 'pos_4_10': 5, 'pos_11_20': 29, 'pos_21_30': 18, 'pos_31_40': 26, 'pos_41_50': 39, 'pos_51_60': 37, 'pos_61_70': 38, 'pos_71_80': 41, 'pos_81_90': 32, 'pos_91_100': 28, 'etv': 221.68726633488833, 'impressions_etv': 67.83859912196097, 'count': 293, 'estimated_paid_traffic_cost': 327.6228795031952, 'is_new': 0, 'is_up': 432, 'is_down': 0, 'is_lost': 0}, 'paid': {'pos_1': 0, 'pos_2_3': 0, 'pos_4_10': 0, 'pos_11_20': 0, 'pos_21_30': 0, 'pos_31_40': 0, 'pos_41_50': 0, 'pos_51_60': 0, 'pos_61_70': 0, 'pos_71_80': 0, 'pos_81_90': 0, 'pos_91_100': 0, 'etv': 0, 'impressions_etv': 0, 'count': 0, 'estimated_paid_traffic_cost': 0, 'is_new': 0, 'is_up': 0, 'is_down': 0, 'is_lost': 0}}}, {'se_type': 'google', 'year': 2021, 'month': 2, 'metrics': {'organic': {'pos_1': 0, 'pos_2_3': 1, 'pos_4_10': 6, 'pos_11_20': 27, 'pos_21_30': 17, 'pos_31_40': 27, 'pos_41_50': 43, 'pos_51_60': 46, 'pos_61_70': 37, 'pos_71_80': 41, 'pos_81_90': 32, 'pos_91_100': 26, 'etv': 228.11818800075724, 'impressions_etv': 72.38376257446497, 'count': 303, 'estimated_paid_traffic_cost': 313.2367321219683, 'is_new': 0, 'is_up': 442, 'is_down': 0, 'is_lost': 0}, 'paid': {'pos_1': 0, 'pos_2_3': 0, 'pos_4_10': 0, 'pos_11_20': 0, 'pos_21_30': 0, 'pos_31_40': 0, 'pos_41_50': 0, 'pos_51_60': 0, 'pos_61_70': 0, 'pos_71_80': 0, 'pos_81_90': 0, 'pos_91_100': 0, 'etv': 0, 'impressions_etv': 0, 'count': 0, 'estimated_paid_traffic_cost': 0, 'is_new': 0, 'is_up': 0, 'is_down': 0, 'is_lost': 0}}}, {'se_type': 'google', 'year': 2021, 'month': 1, 'metrics': {'organic': {'pos_1': 1, 'pos_2_3': 1, 'pos_4_10': 7, 'pos_11_20': 20, 'pos_21_30': 20, 'pos_31_40': 26, 'pos_41_50': 32, 'pos_51_60': 37, 'pos_61_70': 47, 'pos_71_80': 35, 'pos_81_90': 28, 'pos_91_100': 25, 'etv': 162.15490847536657, 'impressions_etv': 31.906744240954602, 'count': 279, 'estimated_paid_traffic_cost': 204.2672411408583, 'is_new': 233, 'is_up': 0, 'is_down': 0, 'is_lost': 0}, 'paid': {'pos_1': 0, 'pos_2_3': 0, 'pos_4_10': 0, 'pos_11_20': 0, 'pos_21_30': 0, 'pos_31_40': 0, 'pos_41_50': 0, 'pos_51_60': 0, 'pos_61_70': 0, 'pos_71_80': 0, 'pos_81_90': 0, 'pos_91_100': 0, 'etv': 0, 'impressions_etv': 0, 'count': 0, 'estimated_paid_traffic_cost': 0, 'is_new': 0, 'is_up': 0, 'is_down': 0, 'is_lost': 0}}}]}]}]\n"
     ]
    }
   ],
   "source": [
    "tasks =  (response['tasks'])\n",
    "\n",
    "print(tasks)"
   ]
  },
  {
   "cell_type": "code",
   "execution_count": 16,
   "id": "a060aedc",
   "metadata": {},
   "outputs": [
    {
     "name": "stdout",
     "output_type": "stream",
     "text": [
      "[{'id': '03141557-5946-0406-0000-f25ff2556d33', 'status_code': 20000, 'status_message': 'Ok.', 'time': '6.8052 sec.', 'cost': 0.124, 'result_count': 1, 'path': ['v3', 'dataforseo_labs', 'google', 'historical_rank_overview', 'live'], 'data': {'api': 'dataforseo_labs', 'function': 'historical_rank_overview', 'se_type': 'google', 'target': 'lovepop.com', 'location_name': 'United States', 'language_name': 'English', 'date_from': '2021-01-01', 'date_to': '2022-12-31'}, 'result': [{'se_type': 'google', 'target': 'lovepop.com', 'location_code': 2840, 'language_code': 'en', 'total_count': 24, 'items_count': 24, 'items': [{'se_type': 'google', 'year': 2022, 'month': 12, 'metrics': {'organic': {'pos_1': 677, 'pos_2_3': 1112, 'pos_4_10': 4372, 'pos_11_20': 6572, 'pos_21_30': 7211, 'pos_31_40': 7877, 'pos_41_50': 7804, 'pos_51_60': 7585, 'pos_61_70': 7229, 'pos_71_80': 6871, 'pos_81_90': 6715, 'pos_91_100': 4476, 'etv': 745085.0601391569, 'impressions_etv': 58520.26186590642, 'count': 68511, 'estimated_paid_traffic_cost': 2052003.993824624, 'is_new': 27528, 'is_up': 17143, 'is_down': 20655, 'is_lost': 18815}, 'paid': {'pos_1': 47, 'pos_2_3': 5, 'pos_4_10': 0, 'pos_11_20': 0, 'pos_21_30': 0, 'pos_31_40': 0, 'pos_41_50': 0, 'pos_51_60': 0, 'pos_61_70': 0, 'pos_71_80': 0, 'pos_81_90': 0, 'pos_91_100': 0, 'etv': 8199.653734147549, 'impressions_etv': 519.6330796182156, 'count': 52, 'estimated_paid_traffic_cost': 17627.2114956975, 'is_new': 49, 'is_up': 0, 'is_down': 1, 'is_lost': 43}}}, {'se_type': 'google', 'year': 2022, 'month': 11, 'metrics': {'organic': {'pos_1': 631, 'pos_2_3': 1053, 'pos_4_10': 4195, 'pos_11_20': 6500, 'pos_21_30': 6833, 'pos_31_40': 7571, 'pos_41_50': 7500, 'pos_51_60': 7140, 'pos_61_70': 6533, 'pos_71_80': 6118, 'pos_81_90': 5503, 'pos_91_100': 3632, 'etv': 614980.2438674048, 'impressions_etv': 54480.25092233345, 'count': 63209, 'estimated_paid_traffic_cost': 1532791.369298386, 'is_new': 23181, 'is_up': 18600, 'is_down': 18150, 'is_lost': 15171}, 'paid': {'pos_1': 43, 'pos_2_3': 7, 'pos_4_10': 0, 'pos_11_20': 0, 'pos_21_30': 0, 'pos_31_40': 0, 'pos_41_50': 0, 'pos_51_60': 0, 'pos_61_70': 0, 'pos_71_80': 0, 'pos_81_90': 0, 'pos_91_100': 0, 'etv': 9928.938042521477, 'impressions_etv': 5170.634325683117, 'count': 50, 'estimated_paid_traffic_cost': 40066.30236709118, 'is_new': 47, 'is_up': 0, 'is_down': 0, 'is_lost': 31}}}, {'se_type': 'google', 'year': 2022, 'month': 10, 'metrics': {'organic': {'pos_1': 596, 'pos_2_3': 1039, 'pos_4_10': 4099, 'pos_11_20': 6455, 'pos_21_30': 6795, 'pos_31_40': 7191, 'pos_41_50': 6746, 'pos_51_60': 6152, 'pos_61_70': 5549, 'pos_71_80': 4898, 'pos_81_90': 4230, 'pos_91_100': 2575, 'etv': 555263.2591753248, 'impressions_etv': 49439.14624620322, 'count': 56325, 'estimated_paid_traffic_cost': 1112313.523826365, 'is_new': 19427, 'is_up': 14864, 'is_down': 18925, 'is_lost': 15996}, 'paid': {'pos_1': 30, 'pos_2_3': 3, 'pos_4_10': 0, 'pos_11_20': 0, 'pos_21_30': 0, 'pos_31_40': 0, 'pos_41_50': 0, 'pos_51_60': 0, 'pos_61_70': 0, 'pos_71_80': 0, 'pos_81_90': 0, 'pos_91_100': 0, 'etv': 9570.429143190384, 'impressions_etv': 5149.418808251619, 'count': 33, 'estimated_paid_traffic_cost': 12944.025265455246, 'is_new': 31, 'is_up': 0, 'is_down': 0, 'is_lost': 8}}}, {'se_type': 'google', 'year': 2022, 'month': 9, 'metrics': {'organic': {'pos_1': 537, 'pos_2_3': 962, 'pos_4_10': 3827, 'pos_11_20': 6242, 'pos_21_30': 6580, 'pos_31_40': 6594, 'pos_41_50': 5946, 'pos_51_60': 5324, 'pos_61_70': 4864, 'pos_71_80': 3932, 'pos_81_90': 3205, 'pos_91_100': 1845, 'etv': 472396.4765184261, 'impressions_etv': 53219.453628312796, 'count': 49858, 'estimated_paid_traffic_cost': 830853.3386101923, 'is_new': 17269, 'is_up': 14122, 'is_down': 15801, 'is_lost': 14577}, 'paid': {'pos_1': 8, 'pos_2_3': 0, 'pos_4_10': 0, 'pos_11_20': 0, 'pos_21_30': 0, 'pos_31_40': 0, 'pos_41_50': 0, 'pos_51_60': 0, 'pos_61_70': 0, 'pos_71_80': 0, 'pos_81_90': 0, 'pos_91_100': 0, 'etv': 3095.6940495967865, 'impressions_etv': 1848.9271124005318, 'count': 8, 'estimated_paid_traffic_cost': 4085.796940803528, 'is_new': 7, 'is_up': 0, 'is_down': 0, 'is_lost': 38}}}, {'se_type': 'google', 'year': 2022, 'month': 8, 'metrics': {'organic': {'pos_1': 554, 'pos_2_3': 994, 'pos_4_10': 3672, 'pos_11_20': 6234, 'pos_21_30': 6729, 'pos_31_40': 6968, 'pos_41_50': 6131, 'pos_51_60': 5483, 'pos_61_70': 4862, 'pos_71_80': 4003, 'pos_81_90': 3318, 'pos_91_100': 1883, 'etv': 461515.0369215645, 'impressions_etv': 54474.85046136007, 'count': 50831, 'estimated_paid_traffic_cost': 788785.3657510872, 'is_new': 18877, 'is_up': 14428, 'is_down': 15041, 'is_lost': 13796}, 'paid': {'pos_1': 16, 'pos_2_3': 1, 'pos_4_10': 0, 'pos_11_20': 0, 'pos_21_30': 0, 'pos_31_40': 0, 'pos_41_50': 0, 'pos_51_60': 0, 'pos_61_70': 0, 'pos_71_80': 0, 'pos_81_90': 0, 'pos_91_100': 0, 'etv': 2746.205914258957, 'impressions_etv': 1785.3762204051018, 'count': 17, 'estimated_paid_traffic_cost': 3359.2802171707153, 'is_new': 11, 'is_up': 0, 'is_down': 0, 'is_lost': 52}}}, {'se_type': 'google', 'year': 2022, 'month': 7, 'metrics': {'organic': {'pos_1': 582, 'pos_2_3': 906, 'pos_4_10': 3475, 'pos_11_20': 5610, 'pos_21_30': 6413, 'pos_31_40': 6480, 'pos_41_50': 6021, 'pos_51_60': 5217, 'pos_61_70': 4391, 'pos_71_80': 3778, 'pos_81_90': 2986, 'pos_91_100': 1689, 'etv': 412881.4331649672, 'impressions_etv': 43190.799279714, 'count': 47548, 'estimated_paid_traffic_cost': 1063342.1519783386, 'is_new': 19984, 'is_up': 12082, 'is_down': 13577, 'is_lost': 13744}, 'paid': {'pos_1': 49, 'pos_2_3': 5, 'pos_4_10': 0, 'pos_11_20': 0, 'pos_21_30': 0, 'pos_31_40': 0, 'pos_41_50': 0, 'pos_51_60': 0, 'pos_61_70': 0, 'pos_71_80': 0, 'pos_81_90': 0, 'pos_91_100': 0, 'etv': 16129.995009809732, 'impressions_etv': 6591.185849860311, 'count': 54, 'estimated_paid_traffic_cost': 46451.4890550375, 'is_new': 45, 'is_up': 1, 'is_down': 0, 'is_lost': 41}}}, {'se_type': 'google', 'year': 2022, 'month': 6, 'metrics': {'organic': {'pos_1': 639, 'pos_2_3': 890, 'pos_4_10': 3440, 'pos_11_20': 5253, 'pos_21_30': 6291, 'pos_31_40': 6127, 'pos_41_50': 5728, 'pos_51_60': 4959, 'pos_61_70': 4319, 'pos_71_80': 3709, 'pos_81_90': 3144, 'pos_91_100': 1783, 'etv': 474598.8923506811, 'impressions_etv': 49786.26108923089, 'count': 46282, 'estimated_paid_traffic_cost': 1256258.726163684, 'is_new': 46282, 'is_up': 11587, 'is_down': 11456, 'is_lost': 11880}, 'paid': {'pos_1': 52, 'pos_2_3': 2, 'pos_4_10': 1, 'pos_11_20': 0, 'pos_21_30': 0, 'pos_31_40': 0, 'pos_41_50': 0, 'pos_51_60': 0, 'pos_61_70': 0, 'pos_71_80': 0, 'pos_81_90': 0, 'pos_91_100': 0, 'etv': 11034.604105621576, 'impressions_etv': 5194.346728309989, 'count': 55, 'estimated_paid_traffic_cost': 77058.2374600172, 'is_new': 55, 'is_up': 0, 'is_down': 0, 'is_lost': 30}}}, {'se_type': 'google', 'year': 2022, 'month': 5, 'metrics': {'organic': {'pos_1': 676, 'pos_2_3': 888, 'pos_4_10': 3394, 'pos_11_20': 5068, 'pos_21_30': 6064, 'pos_31_40': 5931, 'pos_41_50': 5541, 'pos_51_60': 4746, 'pos_61_70': 4183, 'pos_71_80': 3504, 'pos_81_90': 3048, 'pos_91_100': 1743, 'etv': 504889.6579125058, 'impressions_etv': 50220.01518509351, 'count': 44786, 'estimated_paid_traffic_cost': 1268112.2445392986, 'is_new': 44784, 'is_up': 11460, 'is_down': 10279, 'is_lost': 11516}, 'paid': {'pos_1': 42, 'pos_2_3': 3, 'pos_4_10': 0, 'pos_11_20': 0, 'pos_21_30': 0, 'pos_31_40': 0, 'pos_41_50': 0, 'pos_51_60': 0, 'pos_61_70': 0, 'pos_71_80': 0, 'pos_81_90': 0, 'pos_91_100': 0, 'etv': 10807.122101455927, 'impressions_etv': 4996.04576523602, 'count': 45, 'estimated_paid_traffic_cost': 57197.64793360233, 'is_new': 45, 'is_up': 0, 'is_down': 0, 'is_lost': 29}}}, {'se_type': 'google', 'year': 2022, 'month': 4, 'metrics': {'organic': {'pos_1': 607, 'pos_2_3': 839, 'pos_4_10': 2944, 'pos_11_20': 4836, 'pos_21_30': 5159, 'pos_31_40': 5016, 'pos_41_50': 4579, 'pos_51_60': 4351, 'pos_61_70': 3976, 'pos_71_80': 3458, 'pos_81_90': 2943, 'pos_91_100': 1760, 'etv': 624180.4502648804, 'impressions_etv': 32580.42847463768, 'count': 40468, 'estimated_paid_traffic_cost': 793152.8179018064, 'is_new': 31597, 'is_up': 8006, 'is_down': 10032, 'is_lost': 20640}, 'paid': {'pos_1': 45, 'pos_2_3': 2, 'pos_4_10': 1, 'pos_11_20': 0, 'pos_21_30': 0, 'pos_31_40': 0, 'pos_41_50': 0, 'pos_51_60': 0, 'pos_61_70': 0, 'pos_71_80': 0, 'pos_81_90': 0, 'pos_91_100': 0, 'etv': 5016.782130360603, 'impressions_etv': 1705.530467517674, 'count': 48, 'estimated_paid_traffic_cost': 15563.242857508361, 'is_new': 47, 'is_up': 1, 'is_down': 0, 'is_lost': 39}}}, {'se_type': 'google', 'year': 2022, 'month': 3, 'metrics': {'organic': {'pos_1': 610, 'pos_2_3': 800, 'pos_4_10': 2877, 'pos_11_20': 4739, 'pos_21_30': 4888, 'pos_31_40': 4785, 'pos_41_50': 4899, 'pos_51_60': 4764, 'pos_61_70': 4613, 'pos_71_80': 4237, 'pos_81_90': 3868, 'pos_91_100': 2491, 'etv': 680961.8654501829, 'impressions_etv': 102594.54855549708, 'count': 43571, 'estimated_paid_traffic_cost': 863024.1650260646, 'is_new': 25123, 'is_up': 7313, 'is_down': 11118, 'is_lost': 18988}, 'paid': {'pos_1': 51, 'pos_2_3': 3, 'pos_4_10': 1, 'pos_11_20': 0, 'pos_21_30': 0, 'pos_31_40': 0, 'pos_41_50': 0, 'pos_51_60': 0, 'pos_61_70': 0, 'pos_71_80': 0, 'pos_81_90': 0, 'pos_91_100': 0, 'etv': 5541.689128100872, 'impressions_etv': 6551.806384027004, 'count': 55, 'estimated_paid_traffic_cost': 17251.54897289723, 'is_new': 53, 'is_up': 1, 'is_down': 0, 'is_lost': 40}}}, {'se_type': 'google', 'year': 2022, 'month': 2, 'metrics': {'organic': {'pos_1': 598, 'pos_2_3': 759, 'pos_4_10': 2899, 'pos_11_20': 4898, 'pos_21_30': 5042, 'pos_31_40': 4907, 'pos_41_50': 5107, 'pos_51_60': 5011, 'pos_61_70': 4935, 'pos_71_80': 4617, 'pos_81_90': 4363, 'pos_91_100': 2909, 'etv': 700216.7366716452, 'impressions_etv': 95771.81544929463, 'count': 46045, 'estimated_paid_traffic_cost': 994345.273072112, 'is_new': 26218, 'is_up': 7725, 'is_down': 10789, 'is_lost': 19007}, 'paid': {'pos_1': 48, 'pos_2_3': 3, 'pos_4_10': 1, 'pos_11_20': 0, 'pos_21_30': 0, 'pos_31_40': 0, 'pos_41_50': 0, 'pos_51_60': 0, 'pos_61_70': 0, 'pos_71_80': 0, 'pos_81_90': 0, 'pos_91_100': 0, 'etv': 5249.861128687859, 'impressions_etv': 2121.373426347971, 'count': 52, 'estimated_paid_traffic_cost': 19217.46799635887, 'is_new': 50, 'is_up': 1, 'is_down': 0, 'is_lost': 46}}}, {'se_type': 'google', 'year': 2022, 'month': 1, 'metrics': {'organic': {'pos_1': 552, 'pos_2_3': 719, 'pos_4_10': 2863, 'pos_11_20': 5462, 'pos_21_30': 5310, 'pos_31_40': 5003, 'pos_41_50': 4808, 'pos_51_60': 4734, 'pos_61_70': 4353, 'pos_71_80': 4102, 'pos_81_90': 3845, 'pos_91_100': 2486, 'etv': 637742.968903916, 'impressions_etv': 57452.6048459257, 'count': 44237, 'estimated_paid_traffic_cost': 909043.3834423102, 'is_new': 26263, 'is_up': 8175, 'is_down': 8423, 'is_lost': 17468}, 'paid': {'pos_1': 47, 'pos_2_3': 6, 'pos_4_10': 0, 'pos_11_20': 0, 'pos_21_30': 0, 'pos_31_40': 0, 'pos_41_50': 0, 'pos_51_60': 0, 'pos_61_70': 0, 'pos_71_80': 0, 'pos_81_90': 0, 'pos_91_100': 0, 'etv': 4677.018100857735, 'impressions_etv': 1013.5376858711243, 'count': 53, 'estimated_paid_traffic_cost': 23092.06847770512, 'is_new': 52, 'is_up': 0, 'is_down': 0, 'is_lost': 24}}}, {'se_type': 'google', 'year': 2021, 'month': 12, 'metrics': {'organic': {'pos_1': 508, 'pos_2_3': 689, 'pos_4_10': 2746, 'pos_11_20': 5345, 'pos_21_30': 5168, 'pos_31_40': 4922, 'pos_41_50': 4648, 'pos_51_60': 4600, 'pos_61_70': 4294, 'pos_71_80': 4232, 'pos_81_90': 4061, 'pos_91_100': 2591, 'etv': 634698.2907511089, 'impressions_etv': 54761.560627161525, 'count': 43804, 'estimated_paid_traffic_cost': 941076.0821428765, 'is_new': 7762, 'is_up': 4429, 'is_down': 9983, 'is_lost': 30598}, 'paid': {'pos_1': 44, 'pos_2_3': 9, 'pos_4_10': 1, 'pos_11_20': 0, 'pos_21_30': 0, 'pos_31_40': 0, 'pos_41_50': 0, 'pos_51_60': 0, 'pos_61_70': 0, 'pos_71_80': 0, 'pos_81_90': 0, 'pos_91_100': 0, 'etv': 321.45899963378906, 'impressions_etv': 72.45617935061455, 'count': 54, 'estimated_paid_traffic_cost': 737.0750837959349, 'is_new': 0, 'is_up': 0, 'is_down': 20, 'is_lost': 53}}}, {'se_type': 'google', 'year': 2021, 'month': 11, 'metrics': {'organic': {'pos_1': 440, 'pos_2_3': 629, 'pos_4_10': 2278, 'pos_11_20': 4185, 'pos_21_30': 4171, 'pos_31_40': 3820, 'pos_41_50': 3631, 'pos_51_60': 3520, 'pos_61_70': 3340, 'pos_71_80': 3262, 'pos_81_90': 3050, 'pos_91_100': 1881, 'etv': 650587.0973674897, 'impressions_etv': 34684.22184036579, 'count': 34207, 'estimated_paid_traffic_cost': 949285.7800977975, 'is_new': 401, 'is_up': 2198, 'is_down': 30610, 'is_lost': 3063}, 'paid': {'pos_1': 26, 'pos_2_3': 2, 'pos_4_10': 1, 'pos_11_20': 0, 'pos_21_30': 0, 'pos_31_40': 0, 'pos_41_50': 0, 'pos_51_60': 0, 'pos_61_70': 0, 'pos_71_80': 0, 'pos_81_90': 0, 'pos_91_100': 0, 'etv': 287.73000317811966, 'impressions_etv': 133.94685125350952, 'count': 29, 'estimated_paid_traffic_cost': 586.9412127137184, 'is_new': 0, 'is_up': 9, 'is_down': 28, 'is_lost': 0}}}, {'se_type': 'google', 'year': 2021, 'month': 10, 'metrics': {'organic': {'pos_1': 113, 'pos_2_3': 223, 'pos_4_10': 736, 'pos_11_20': 1175, 'pos_21_30': 1099, 'pos_31_40': 1134, 'pos_41_50': 1029, 'pos_51_60': 1017, 'pos_61_70': 920, 'pos_71_80': 997, 'pos_81_90': 894, 'pos_91_100': 700, 'etv': 247603.53053333238, 'impressions_etv': 18285.719811004587, 'count': 10037, 'estimated_paid_traffic_cost': 376001.98036572494, 'is_new': 0, 'is_up': 0, 'is_down': 8948, 'is_lost': 0}, 'paid': {'pos_1': 54, 'pos_2_3': 13, 'pos_4_10': 0, 'pos_11_20': 0, 'pos_21_30': 0, 'pos_31_40': 0, 'pos_41_50': 0, 'pos_51_60': 0, 'pos_61_70': 0, 'pos_71_80': 0, 'pos_81_90': 0, 'pos_91_100': 0, 'etv': 3725.449764232337, 'impressions_etv': 94.40377214986884, 'count': 67, 'estimated_paid_traffic_cost': 11550.072828220184, 'is_new': 0, 'is_up': 0, 'is_down': 3700, 'is_lost': 0}}}, {'se_type': 'google', 'year': 2021, 'month': 9, 'metrics': {'organic': {'pos_1': 0, 'pos_2_3': 1, 'pos_4_10': 1, 'pos_11_20': 4, 'pos_21_30': 4, 'pos_31_40': 8, 'pos_41_50': 12, 'pos_51_60': 11, 'pos_61_70': 15, 'pos_71_80': 15, 'pos_81_90': 19, 'pos_91_100': 15, 'etv': 10.64100020378828, 'impressions_etv': 1.0475999945774674, 'count': 105, 'estimated_paid_traffic_cost': 10.548838848946616, 'is_new': 0, 'is_up': 0, 'is_down': 92, 'is_lost': 0}, 'paid': {'pos_1': 0, 'pos_2_3': 0, 'pos_4_10': 0, 'pos_11_20': 0, 'pos_21_30': 0, 'pos_31_40': 0, 'pos_41_50': 0, 'pos_51_60': 0, 'pos_61_70': 0, 'pos_71_80': 0, 'pos_81_90': 0, 'pos_91_100': 0, 'etv': 0, 'impressions_etv': 0, 'count': 0, 'estimated_paid_traffic_cost': 0, 'is_new': 0, 'is_up': 0, 'is_down': 0, 'is_lost': 0}}}, {'se_type': 'google', 'year': 2021, 'month': 8, 'metrics': {'organic': None, 'paid': None}}, {'se_type': 'google', 'year': 2021, 'month': 7, 'metrics': {'organic': {'pos_1': 0, 'pos_2_3': 0, 'pos_4_10': 0, 'pos_11_20': 0, 'pos_21_30': 0, 'pos_31_40': 1, 'pos_41_50': 0, 'pos_51_60': 0, 'pos_61_70': 3, 'pos_71_80': 0, 'pos_81_90': 0, 'pos_91_100': 1, 'etv': 5.396999960765243, 'impressions_etv': 0.14112000167369843, 'count': 5, 'estimated_paid_traffic_cost': 10.482354294508696, 'is_new': 0, 'is_up': 1, 'is_down': 2, 'is_lost': 2}, 'paid': {'pos_1': 0, 'pos_2_3': 0, 'pos_4_10': 0, 'pos_11_20': 0, 'pos_21_30': 0, 'pos_31_40': 0, 'pos_41_50': 0, 'pos_51_60': 0, 'pos_61_70': 0, 'pos_71_80': 0, 'pos_81_90': 0, 'pos_91_100': 0, 'etv': 0, 'impressions_etv': 0, 'count': 0, 'estimated_paid_traffic_cost': 0, 'is_new': 0, 'is_up': 0, 'is_down': 0, 'is_lost': 0}}}, {'se_type': 'google', 'year': 2021, 'month': 6, 'metrics': {'organic': {'pos_1': 0, 'pos_2_3': 0, 'pos_4_10': 0, 'pos_11_20': 0, 'pos_21_30': 0, 'pos_31_40': 2, 'pos_41_50': 0, 'pos_51_60': 1, 'pos_61_70': 4, 'pos_71_80': 1, 'pos_81_90': 0, 'pos_91_100': 1, 'etv': 2.7036934389436436, 'impressions_etv': 0.351547484213035, 'count': 9, 'estimated_paid_traffic_cost': 4.2321429060118225, 'is_new': 91, 'is_up': 3, 'is_down': 1, 'is_lost': 9}, 'paid': {'pos_1': 0, 'pos_2_3': 0, 'pos_4_10': 0, 'pos_11_20': 0, 'pos_21_30': 0, 'pos_31_40': 0, 'pos_41_50': 0, 'pos_51_60': 0, 'pos_61_70': 0, 'pos_71_80': 0, 'pos_81_90': 0, 'pos_91_100': 0, 'etv': 0, 'impressions_etv': 0, 'count': 0, 'estimated_paid_traffic_cost': 0, 'is_new': 0, 'is_up': 0, 'is_down': 0, 'is_lost': 0}}}, {'se_type': 'google', 'year': 2021, 'month': 5, 'metrics': {'organic': {'pos_1': 0, 'pos_2_3': 0, 'pos_4_10': 0, 'pos_11_20': 3, 'pos_21_30': 5, 'pos_31_40': 5, 'pos_41_50': 1, 'pos_51_60': 8, 'pos_61_70': 7, 'pos_71_80': 3, 'pos_81_90': 7, 'pos_91_100': 11, 'etv': 4.06872, 'impressions_etv': 0.8378118000000001, 'count': 50, 'estimated_paid_traffic_cost': 6.24408236298, 'is_new': 114, 'is_up': 18, 'is_down': 12, 'is_lost': 17}, 'paid': {'pos_1': 0, 'pos_2_3': 0, 'pos_4_10': 0, 'pos_11_20': 0, 'pos_21_30': 0, 'pos_31_40': 0, 'pos_41_50': 0, 'pos_51_60': 0, 'pos_61_70': 0, 'pos_71_80': 0, 'pos_81_90': 0, 'pos_91_100': 0, 'etv': 0, 'impressions_etv': 0, 'count': 0, 'estimated_paid_traffic_cost': 0, 'is_new': 0, 'is_up': 0, 'is_down': 0, 'is_lost': 0}}}, {'se_type': 'google', 'year': 2021, 'month': 4, 'metrics': {'organic': {'pos_1': 0, 'pos_2_3': 0, 'pos_4_10': 4, 'pos_11_20': 18, 'pos_21_30': 11, 'pos_31_40': 22, 'pos_41_50': 19, 'pos_51_60': 23, 'pos_61_70': 26, 'pos_71_80': 25, 'pos_81_90': 21, 'pos_91_100': 21, 'etv': 89.36425946594517, 'impressions_etv': 15.1610278917183, 'count': 190, 'estimated_paid_traffic_cost': 286.752340230807, 'is_new': 0, 'is_up': 235, 'is_down': 0, 'is_lost': 0}, 'paid': {'pos_1': 0, 'pos_2_3': 0, 'pos_4_10': 0, 'pos_11_20': 0, 'pos_21_30': 0, 'pos_31_40': 0, 'pos_41_50': 0, 'pos_51_60': 0, 'pos_61_70': 0, 'pos_71_80': 0, 'pos_81_90': 0, 'pos_91_100': 0, 'etv': 0, 'impressions_etv': 0, 'count': 0, 'estimated_paid_traffic_cost': 0, 'is_new': 0, 'is_up': 0, 'is_down': 0, 'is_lost': 0}}}, {'se_type': 'google', 'year': 2021, 'month': 3, 'metrics': {'organic': {'pos_1': 0, 'pos_2_3': 0, 'pos_4_10': 5, 'pos_11_20': 29, 'pos_21_30': 18, 'pos_31_40': 26, 'pos_41_50': 39, 'pos_51_60': 37, 'pos_61_70': 38, 'pos_71_80': 41, 'pos_81_90': 32, 'pos_91_100': 28, 'etv': 221.68726633488833, 'impressions_etv': 67.83859912196097, 'count': 293, 'estimated_paid_traffic_cost': 327.6228795031952, 'is_new': 0, 'is_up': 432, 'is_down': 0, 'is_lost': 0}, 'paid': {'pos_1': 0, 'pos_2_3': 0, 'pos_4_10': 0, 'pos_11_20': 0, 'pos_21_30': 0, 'pos_31_40': 0, 'pos_41_50': 0, 'pos_51_60': 0, 'pos_61_70': 0, 'pos_71_80': 0, 'pos_81_90': 0, 'pos_91_100': 0, 'etv': 0, 'impressions_etv': 0, 'count': 0, 'estimated_paid_traffic_cost': 0, 'is_new': 0, 'is_up': 0, 'is_down': 0, 'is_lost': 0}}}, {'se_type': 'google', 'year': 2021, 'month': 2, 'metrics': {'organic': {'pos_1': 0, 'pos_2_3': 1, 'pos_4_10': 6, 'pos_11_20': 27, 'pos_21_30': 17, 'pos_31_40': 27, 'pos_41_50': 43, 'pos_51_60': 46, 'pos_61_70': 37, 'pos_71_80': 41, 'pos_81_90': 32, 'pos_91_100': 26, 'etv': 228.11818800075724, 'impressions_etv': 72.38376257446497, 'count': 303, 'estimated_paid_traffic_cost': 313.2367321219683, 'is_new': 0, 'is_up': 442, 'is_down': 0, 'is_lost': 0}, 'paid': {'pos_1': 0, 'pos_2_3': 0, 'pos_4_10': 0, 'pos_11_20': 0, 'pos_21_30': 0, 'pos_31_40': 0, 'pos_41_50': 0, 'pos_51_60': 0, 'pos_61_70': 0, 'pos_71_80': 0, 'pos_81_90': 0, 'pos_91_100': 0, 'etv': 0, 'impressions_etv': 0, 'count': 0, 'estimated_paid_traffic_cost': 0, 'is_new': 0, 'is_up': 0, 'is_down': 0, 'is_lost': 0}}}, {'se_type': 'google', 'year': 2021, 'month': 1, 'metrics': {'organic': {'pos_1': 1, 'pos_2_3': 1, 'pos_4_10': 7, 'pos_11_20': 20, 'pos_21_30': 20, 'pos_31_40': 26, 'pos_41_50': 32, 'pos_51_60': 37, 'pos_61_70': 47, 'pos_71_80': 35, 'pos_81_90': 28, 'pos_91_100': 25, 'etv': 162.15490847536657, 'impressions_etv': 31.906744240954602, 'count': 279, 'estimated_paid_traffic_cost': 204.2672411408583, 'is_new': 233, 'is_up': 0, 'is_down': 0, 'is_lost': 0}, 'paid': {'pos_1': 0, 'pos_2_3': 0, 'pos_4_10': 0, 'pos_11_20': 0, 'pos_21_30': 0, 'pos_31_40': 0, 'pos_41_50': 0, 'pos_51_60': 0, 'pos_61_70': 0, 'pos_71_80': 0, 'pos_81_90': 0, 'pos_91_100': 0, 'etv': 0, 'impressions_etv': 0, 'count': 0, 'estimated_paid_traffic_cost': 0, 'is_new': 0, 'is_up': 0, 'is_down': 0, 'is_lost': 0}}}]}]}]\n"
     ]
    }
   ],
   "source": [
    "# Separating a dictionary from list of lists \n",
    "#Duplicate- Just using 1 line\n",
    "\n",
    "tasks =  (response['tasks'])\n",
    "print(tasks)"
   ]
  },
  {
   "cell_type": "code",
   "execution_count": 81,
   "id": "43d91105",
   "metadata": {},
   "outputs": [],
   "source": [
    "print(type(tasks))"
   ]
  },
  {
   "cell_type": "code",
   "execution_count": 83,
   "id": "9e1b92c5",
   "metadata": {},
   "outputs": [
    {
     "name": "stdout",
     "output_type": "stream",
     "text": [
      "<class 'list'>\n"
     ]
    }
   ],
   "source": [
    "print(type(tasks))"
   ]
  },
  {
   "cell_type": "code",
   "execution_count": 17,
   "id": "41cd36b4",
   "metadata": {},
   "outputs": [
    {
     "name": "stdout",
     "output_type": "stream",
     "text": [
      "<class 'dict'>\n",
      "<class 'list'>\n"
     ]
    }
   ],
   "source": [
    "print(type(response))\n",
    "\n",
    "print(type(tasks))\n",
    "\n",
    "\n",
    "#print(type(df))\n",
    "\n"
   ]
  },
  {
   "cell_type": "code",
   "execution_count": 18,
   "id": "a54d2761",
   "metadata": {},
   "outputs": [
    {
     "data": {
      "text/html": [
       "<div>\n",
       "<style scoped>\n",
       "    .dataframe tbody tr th:only-of-type {\n",
       "        vertical-align: middle;\n",
       "    }\n",
       "\n",
       "    .dataframe tbody tr th {\n",
       "        vertical-align: top;\n",
       "    }\n",
       "\n",
       "    .dataframe thead th {\n",
       "        text-align: right;\n",
       "    }\n",
       "</style>\n",
       "<table border=\"1\" class=\"dataframe\">\n",
       "  <thead>\n",
       "    <tr style=\"text-align: right;\">\n",
       "      <th></th>\n",
       "      <th>id</th>\n",
       "      <th>status_code</th>\n",
       "      <th>status_message</th>\n",
       "      <th>time</th>\n",
       "      <th>cost</th>\n",
       "      <th>result_count</th>\n",
       "      <th>path</th>\n",
       "      <th>data</th>\n",
       "      <th>result</th>\n",
       "    </tr>\n",
       "  </thead>\n",
       "  <tbody>\n",
       "    <tr>\n",
       "      <th>0</th>\n",
       "      <td>03141557-5946-0406-0000-f25ff2556d33</td>\n",
       "      <td>20000</td>\n",
       "      <td>Ok.</td>\n",
       "      <td>6.8052 sec.</td>\n",
       "      <td>0.124</td>\n",
       "      <td>1</td>\n",
       "      <td>[v3, dataforseo_labs, google, historical_rank_...</td>\n",
       "      <td>{'api': 'dataforseo_labs', 'function': 'histor...</td>\n",
       "      <td>[{'se_type': 'google', 'target': 'lovepop.com'...</td>\n",
       "    </tr>\n",
       "  </tbody>\n",
       "</table>\n",
       "</div>"
      ],
      "text/plain": [
       "                                     id  status_code status_message  \\\n",
       "0  03141557-5946-0406-0000-f25ff2556d33        20000            Ok.   \n",
       "\n",
       "          time   cost  result_count  \\\n",
       "0  6.8052 sec.  0.124             1   \n",
       "\n",
       "                                                path  \\\n",
       "0  [v3, dataforseo_labs, google, historical_rank_...   \n",
       "\n",
       "                                                data  \\\n",
       "0  {'api': 'dataforseo_labs', 'function': 'histor...   \n",
       "\n",
       "                                              result  \n",
       "0  [{'se_type': 'google', 'target': 'lovepop.com'...  "
      ]
     },
     "execution_count": 18,
     "metadata": {},
     "output_type": "execute_result"
    }
   ],
   "source": [
    "# Working\n",
    "df = pd.DataFrame.from_dict(tasks)\n",
    "df"
   ]
  },
  {
   "cell_type": "code",
   "execution_count": 19,
   "id": "3f41a39f",
   "metadata": {},
   "outputs": [
    {
     "name": "stdout",
     "output_type": "stream",
     "text": [
      "<class 'dict'>\n",
      "<class 'list'>\n",
      "<class 'pandas.core.frame.DataFrame'>\n"
     ]
    }
   ],
   "source": [
    "print(type(response))\n",
    "\n",
    "print(type(tasks))\n",
    "\n",
    "print(type(df))"
   ]
  },
  {
   "cell_type": "code",
   "execution_count": 20,
   "id": "39ec6e74",
   "metadata": {},
   "outputs": [],
   "source": [
    "# Working\n",
    "#df2 = pd.DataFrame.from_dict(df)\n",
    "\n",
    "#df2"
   ]
  },
  {
   "cell_type": "code",
   "execution_count": 87,
   "id": "e866cb7b",
   "metadata": {},
   "outputs": [
    {
     "name": "stdout",
     "output_type": "stream",
     "text": [
      "<class 'pandas.core.frame.DataFrame'>\n"
     ]
    }
   ],
   "source": [
    "#print(type(df2))"
   ]
  },
  {
   "cell_type": "code",
   "execution_count": 21,
   "id": "cb65186a",
   "metadata": {},
   "outputs": [
    {
     "data": {
      "text/html": [
       "<div>\n",
       "<style scoped>\n",
       "    .dataframe tbody tr th:only-of-type {\n",
       "        vertical-align: middle;\n",
       "    }\n",
       "\n",
       "    .dataframe tbody tr th {\n",
       "        vertical-align: top;\n",
       "    }\n",
       "\n",
       "    .dataframe thead th {\n",
       "        text-align: right;\n",
       "    }\n",
       "</style>\n",
       "<table border=\"1\" class=\"dataframe\">\n",
       "  <thead>\n",
       "    <tr style=\"text-align: right;\">\n",
       "      <th></th>\n",
       "      <th>result</th>\n",
       "    </tr>\n",
       "  </thead>\n",
       "  <tbody>\n",
       "    <tr>\n",
       "      <th>0</th>\n",
       "      <td>[{'se_type': 'google', 'target': 'lovepop.com'...</td>\n",
       "    </tr>\n",
       "  </tbody>\n",
       "</table>\n",
       "</div>"
      ],
      "text/plain": [
       "                                              result\n",
       "0  [{'se_type': 'google', 'target': 'lovepop.com'..."
      ]
     },
     "execution_count": 21,
     "metadata": {},
     "output_type": "execute_result"
    }
   ],
   "source": [
    "#Working\n",
    "\n",
    "df2 = pd.DataFrame.from_dict(df['result'])\n",
    "df2\n"
   ]
  },
  {
   "cell_type": "code",
   "execution_count": 23,
   "id": "64b13f15",
   "metadata": {},
   "outputs": [],
   "source": [
    "# importing the csv module\n",
    "\n",
    "import csv\n",
    "\n",
    "lovepop_kw = df2.to_csv(\"lovepop_hist_kw.csv\", index = False)\n",
    "lovepop_kw"
   ]
  },
  {
   "cell_type": "code",
   "execution_count": 68,
   "id": "cecd54f4",
   "metadata": {},
   "outputs": [],
   "source": [
    "# Separating a dictionary from list of lists \n",
    "# Just using 1 line\n",
    "\n",
    "#metrics =  (tasks['metrics'])\n",
    "\n",
    "#print(metrics)"
   ]
  },
  {
   "cell_type": "code",
   "execution_count": 75,
   "id": "37725919",
   "metadata": {},
   "outputs": [],
   "source": [
    "# trying to extract metrics from 'result'\n",
    "#metrics =  df3('metrics')\n",
    "\n",
    "#print(metrics)\n",
    "\n",
    "# TypeError: 'DataFrame' object is not callable\n"
   ]
  },
  {
   "cell_type": "code",
   "execution_count": null,
   "id": "66f5cb24",
   "metadata": {},
   "outputs": [],
   "source": [
    "# tasks is a dictionary- now extract data from the dictionary\n",
    "\n",
    "# using \n",
    "#my_list = []\n",
    "#for i in my_dict.values():\n",
    " #   my_list.append(i)"
   ]
  },
  {
   "cell_type": "code",
   "execution_count": 80,
   "id": "2fc7467f",
   "metadata": {},
   "outputs": [],
   "source": [
    "#To find no. of col & no. of rows\n",
    "#df3.shape\n",
    "\n",
    "#Answer- (1,1)"
   ]
  },
  {
   "cell_type": "code",
   "execution_count": 170,
   "id": "7687b308",
   "metadata": {},
   "outputs": [],
   "source": [
    "# iloc[row slicing, column slicing]\n",
    "#df2.iloc[0:2, 0:2]"
   ]
  },
  {
   "cell_type": "code",
   "execution_count": 102,
   "id": "6ef18fea",
   "metadata": {},
   "outputs": [],
   "source": []
  },
  {
   "cell_type": "code",
   "execution_count": 48,
   "id": "ea19719f",
   "metadata": {},
   "outputs": [],
   "source": [
    "# Separating a dictionary from list of lists \n",
    "# Just using 1 line\n",
    "\n",
    "# result =  (tasks['result'])\n",
    "\n",
    "# print(result)\n",
    "\n",
    "#Not Working-TypeError: list indices must be integers or slices, not str\n"
   ]
  },
  {
   "cell_type": "code",
   "execution_count": 25,
   "id": "ea027e3a",
   "metadata": {},
   "outputs": [
    {
     "name": "stdout",
     "output_type": "stream",
     "text": [
      "[[[{'se_type': 'google', 'target': 'lovepop.com', 'location_code': 2840, 'language_code': 'en', 'total_count': 24, 'items_count': 24, 'items': [{'se_type': 'google', 'year': 2022, 'month': 12, 'metrics': {'organic': {'pos_1': 677, 'pos_2_3': 1112, 'pos_4_10': 4372, 'pos_11_20': 6572, 'pos_21_30': 7211, 'pos_31_40': 7877, 'pos_41_50': 7804, 'pos_51_60': 7585, 'pos_61_70': 7229, 'pos_71_80': 6871, 'pos_81_90': 6715, 'pos_91_100': 4476, 'etv': 745085.0601391569, 'impressions_etv': 58520.26186590642, 'count': 68511, 'estimated_paid_traffic_cost': 2052003.993824624, 'is_new': 27528, 'is_up': 17143, 'is_down': 20655, 'is_lost': 18815}, 'paid': {'pos_1': 47, 'pos_2_3': 5, 'pos_4_10': 0, 'pos_11_20': 0, 'pos_21_30': 0, 'pos_31_40': 0, 'pos_41_50': 0, 'pos_51_60': 0, 'pos_61_70': 0, 'pos_71_80': 0, 'pos_81_90': 0, 'pos_91_100': 0, 'etv': 8199.653734147549, 'impressions_etv': 519.6330796182156, 'count': 52, 'estimated_paid_traffic_cost': 17627.2114956975, 'is_new': 49, 'is_up': 0, 'is_down': 1, 'is_lost': 43}}}, {'se_type': 'google', 'year': 2022, 'month': 11, 'metrics': {'organic': {'pos_1': 631, 'pos_2_3': 1053, 'pos_4_10': 4195, 'pos_11_20': 6500, 'pos_21_30': 6833, 'pos_31_40': 7571, 'pos_41_50': 7500, 'pos_51_60': 7140, 'pos_61_70': 6533, 'pos_71_80': 6118, 'pos_81_90': 5503, 'pos_91_100': 3632, 'etv': 614980.2438674048, 'impressions_etv': 54480.25092233345, 'count': 63209, 'estimated_paid_traffic_cost': 1532791.369298386, 'is_new': 23181, 'is_up': 18600, 'is_down': 18150, 'is_lost': 15171}, 'paid': {'pos_1': 43, 'pos_2_3': 7, 'pos_4_10': 0, 'pos_11_20': 0, 'pos_21_30': 0, 'pos_31_40': 0, 'pos_41_50': 0, 'pos_51_60': 0, 'pos_61_70': 0, 'pos_71_80': 0, 'pos_81_90': 0, 'pos_91_100': 0, 'etv': 9928.938042521477, 'impressions_etv': 5170.634325683117, 'count': 50, 'estimated_paid_traffic_cost': 40066.30236709118, 'is_new': 47, 'is_up': 0, 'is_down': 0, 'is_lost': 31}}}, {'se_type': 'google', 'year': 2022, 'month': 10, 'metrics': {'organic': {'pos_1': 596, 'pos_2_3': 1039, 'pos_4_10': 4099, 'pos_11_20': 6455, 'pos_21_30': 6795, 'pos_31_40': 7191, 'pos_41_50': 6746, 'pos_51_60': 6152, 'pos_61_70': 5549, 'pos_71_80': 4898, 'pos_81_90': 4230, 'pos_91_100': 2575, 'etv': 555263.2591753248, 'impressions_etv': 49439.14624620322, 'count': 56325, 'estimated_paid_traffic_cost': 1112313.523826365, 'is_new': 19427, 'is_up': 14864, 'is_down': 18925, 'is_lost': 15996}, 'paid': {'pos_1': 30, 'pos_2_3': 3, 'pos_4_10': 0, 'pos_11_20': 0, 'pos_21_30': 0, 'pos_31_40': 0, 'pos_41_50': 0, 'pos_51_60': 0, 'pos_61_70': 0, 'pos_71_80': 0, 'pos_81_90': 0, 'pos_91_100': 0, 'etv': 9570.429143190384, 'impressions_etv': 5149.418808251619, 'count': 33, 'estimated_paid_traffic_cost': 12944.025265455246, 'is_new': 31, 'is_up': 0, 'is_down': 0, 'is_lost': 8}}}, {'se_type': 'google', 'year': 2022, 'month': 9, 'metrics': {'organic': {'pos_1': 537, 'pos_2_3': 962, 'pos_4_10': 3827, 'pos_11_20': 6242, 'pos_21_30': 6580, 'pos_31_40': 6594, 'pos_41_50': 5946, 'pos_51_60': 5324, 'pos_61_70': 4864, 'pos_71_80': 3932, 'pos_81_90': 3205, 'pos_91_100': 1845, 'etv': 472396.4765184261, 'impressions_etv': 53219.453628312796, 'count': 49858, 'estimated_paid_traffic_cost': 830853.3386101923, 'is_new': 17269, 'is_up': 14122, 'is_down': 15801, 'is_lost': 14577}, 'paid': {'pos_1': 8, 'pos_2_3': 0, 'pos_4_10': 0, 'pos_11_20': 0, 'pos_21_30': 0, 'pos_31_40': 0, 'pos_41_50': 0, 'pos_51_60': 0, 'pos_61_70': 0, 'pos_71_80': 0, 'pos_81_90': 0, 'pos_91_100': 0, 'etv': 3095.6940495967865, 'impressions_etv': 1848.9271124005318, 'count': 8, 'estimated_paid_traffic_cost': 4085.796940803528, 'is_new': 7, 'is_up': 0, 'is_down': 0, 'is_lost': 38}}}, {'se_type': 'google', 'year': 2022, 'month': 8, 'metrics': {'organic': {'pos_1': 554, 'pos_2_3': 994, 'pos_4_10': 3672, 'pos_11_20': 6234, 'pos_21_30': 6729, 'pos_31_40': 6968, 'pos_41_50': 6131, 'pos_51_60': 5483, 'pos_61_70': 4862, 'pos_71_80': 4003, 'pos_81_90': 3318, 'pos_91_100': 1883, 'etv': 461515.0369215645, 'impressions_etv': 54474.85046136007, 'count': 50831, 'estimated_paid_traffic_cost': 788785.3657510872, 'is_new': 18877, 'is_up': 14428, 'is_down': 15041, 'is_lost': 13796}, 'paid': {'pos_1': 16, 'pos_2_3': 1, 'pos_4_10': 0, 'pos_11_20': 0, 'pos_21_30': 0, 'pos_31_40': 0, 'pos_41_50': 0, 'pos_51_60': 0, 'pos_61_70': 0, 'pos_71_80': 0, 'pos_81_90': 0, 'pos_91_100': 0, 'etv': 2746.205914258957, 'impressions_etv': 1785.3762204051018, 'count': 17, 'estimated_paid_traffic_cost': 3359.2802171707153, 'is_new': 11, 'is_up': 0, 'is_down': 0, 'is_lost': 52}}}, {'se_type': 'google', 'year': 2022, 'month': 7, 'metrics': {'organic': {'pos_1': 582, 'pos_2_3': 906, 'pos_4_10': 3475, 'pos_11_20': 5610, 'pos_21_30': 6413, 'pos_31_40': 6480, 'pos_41_50': 6021, 'pos_51_60': 5217, 'pos_61_70': 4391, 'pos_71_80': 3778, 'pos_81_90': 2986, 'pos_91_100': 1689, 'etv': 412881.4331649672, 'impressions_etv': 43190.799279714, 'count': 47548, 'estimated_paid_traffic_cost': 1063342.1519783386, 'is_new': 19984, 'is_up': 12082, 'is_down': 13577, 'is_lost': 13744}, 'paid': {'pos_1': 49, 'pos_2_3': 5, 'pos_4_10': 0, 'pos_11_20': 0, 'pos_21_30': 0, 'pos_31_40': 0, 'pos_41_50': 0, 'pos_51_60': 0, 'pos_61_70': 0, 'pos_71_80': 0, 'pos_81_90': 0, 'pos_91_100': 0, 'etv': 16129.995009809732, 'impressions_etv': 6591.185849860311, 'count': 54, 'estimated_paid_traffic_cost': 46451.4890550375, 'is_new': 45, 'is_up': 1, 'is_down': 0, 'is_lost': 41}}}, {'se_type': 'google', 'year': 2022, 'month': 6, 'metrics': {'organic': {'pos_1': 639, 'pos_2_3': 890, 'pos_4_10': 3440, 'pos_11_20': 5253, 'pos_21_30': 6291, 'pos_31_40': 6127, 'pos_41_50': 5728, 'pos_51_60': 4959, 'pos_61_70': 4319, 'pos_71_80': 3709, 'pos_81_90': 3144, 'pos_91_100': 1783, 'etv': 474598.8923506811, 'impressions_etv': 49786.26108923089, 'count': 46282, 'estimated_paid_traffic_cost': 1256258.726163684, 'is_new': 46282, 'is_up': 11587, 'is_down': 11456, 'is_lost': 11880}, 'paid': {'pos_1': 52, 'pos_2_3': 2, 'pos_4_10': 1, 'pos_11_20': 0, 'pos_21_30': 0, 'pos_31_40': 0, 'pos_41_50': 0, 'pos_51_60': 0, 'pos_61_70': 0, 'pos_71_80': 0, 'pos_81_90': 0, 'pos_91_100': 0, 'etv': 11034.604105621576, 'impressions_etv': 5194.346728309989, 'count': 55, 'estimated_paid_traffic_cost': 77058.2374600172, 'is_new': 55, 'is_up': 0, 'is_down': 0, 'is_lost': 30}}}, {'se_type': 'google', 'year': 2022, 'month': 5, 'metrics': {'organic': {'pos_1': 676, 'pos_2_3': 888, 'pos_4_10': 3394, 'pos_11_20': 5068, 'pos_21_30': 6064, 'pos_31_40': 5931, 'pos_41_50': 5541, 'pos_51_60': 4746, 'pos_61_70': 4183, 'pos_71_80': 3504, 'pos_81_90': 3048, 'pos_91_100': 1743, 'etv': 504889.6579125058, 'impressions_etv': 50220.01518509351, 'count': 44786, 'estimated_paid_traffic_cost': 1268112.2445392986, 'is_new': 44784, 'is_up': 11460, 'is_down': 10279, 'is_lost': 11516}, 'paid': {'pos_1': 42, 'pos_2_3': 3, 'pos_4_10': 0, 'pos_11_20': 0, 'pos_21_30': 0, 'pos_31_40': 0, 'pos_41_50': 0, 'pos_51_60': 0, 'pos_61_70': 0, 'pos_71_80': 0, 'pos_81_90': 0, 'pos_91_100': 0, 'etv': 10807.122101455927, 'impressions_etv': 4996.04576523602, 'count': 45, 'estimated_paid_traffic_cost': 57197.64793360233, 'is_new': 45, 'is_up': 0, 'is_down': 0, 'is_lost': 29}}}, {'se_type': 'google', 'year': 2022, 'month': 4, 'metrics': {'organic': {'pos_1': 607, 'pos_2_3': 839, 'pos_4_10': 2944, 'pos_11_20': 4836, 'pos_21_30': 5159, 'pos_31_40': 5016, 'pos_41_50': 4579, 'pos_51_60': 4351, 'pos_61_70': 3976, 'pos_71_80': 3458, 'pos_81_90': 2943, 'pos_91_100': 1760, 'etv': 624180.4502648804, 'impressions_etv': 32580.42847463768, 'count': 40468, 'estimated_paid_traffic_cost': 793152.8179018064, 'is_new': 31597, 'is_up': 8006, 'is_down': 10032, 'is_lost': 20640}, 'paid': {'pos_1': 45, 'pos_2_3': 2, 'pos_4_10': 1, 'pos_11_20': 0, 'pos_21_30': 0, 'pos_31_40': 0, 'pos_41_50': 0, 'pos_51_60': 0, 'pos_61_70': 0, 'pos_71_80': 0, 'pos_81_90': 0, 'pos_91_100': 0, 'etv': 5016.782130360603, 'impressions_etv': 1705.530467517674, 'count': 48, 'estimated_paid_traffic_cost': 15563.242857508361, 'is_new': 47, 'is_up': 1, 'is_down': 0, 'is_lost': 39}}}, {'se_type': 'google', 'year': 2022, 'month': 3, 'metrics': {'organic': {'pos_1': 610, 'pos_2_3': 800, 'pos_4_10': 2877, 'pos_11_20': 4739, 'pos_21_30': 4888, 'pos_31_40': 4785, 'pos_41_50': 4899, 'pos_51_60': 4764, 'pos_61_70': 4613, 'pos_71_80': 4237, 'pos_81_90': 3868, 'pos_91_100': 2491, 'etv': 680961.8654501829, 'impressions_etv': 102594.54855549708, 'count': 43571, 'estimated_paid_traffic_cost': 863024.1650260646, 'is_new': 25123, 'is_up': 7313, 'is_down': 11118, 'is_lost': 18988}, 'paid': {'pos_1': 51, 'pos_2_3': 3, 'pos_4_10': 1, 'pos_11_20': 0, 'pos_21_30': 0, 'pos_31_40': 0, 'pos_41_50': 0, 'pos_51_60': 0, 'pos_61_70': 0, 'pos_71_80': 0, 'pos_81_90': 0, 'pos_91_100': 0, 'etv': 5541.689128100872, 'impressions_etv': 6551.806384027004, 'count': 55, 'estimated_paid_traffic_cost': 17251.54897289723, 'is_new': 53, 'is_up': 1, 'is_down': 0, 'is_lost': 40}}}, {'se_type': 'google', 'year': 2022, 'month': 2, 'metrics': {'organic': {'pos_1': 598, 'pos_2_3': 759, 'pos_4_10': 2899, 'pos_11_20': 4898, 'pos_21_30': 5042, 'pos_31_40': 4907, 'pos_41_50': 5107, 'pos_51_60': 5011, 'pos_61_70': 4935, 'pos_71_80': 4617, 'pos_81_90': 4363, 'pos_91_100': 2909, 'etv': 700216.7366716452, 'impressions_etv': 95771.81544929463, 'count': 46045, 'estimated_paid_traffic_cost': 994345.273072112, 'is_new': 26218, 'is_up': 7725, 'is_down': 10789, 'is_lost': 19007}, 'paid': {'pos_1': 48, 'pos_2_3': 3, 'pos_4_10': 1, 'pos_11_20': 0, 'pos_21_30': 0, 'pos_31_40': 0, 'pos_41_50': 0, 'pos_51_60': 0, 'pos_61_70': 0, 'pos_71_80': 0, 'pos_81_90': 0, 'pos_91_100': 0, 'etv': 5249.861128687859, 'impressions_etv': 2121.373426347971, 'count': 52, 'estimated_paid_traffic_cost': 19217.46799635887, 'is_new': 50, 'is_up': 1, 'is_down': 0, 'is_lost': 46}}}, {'se_type': 'google', 'year': 2022, 'month': 1, 'metrics': {'organic': {'pos_1': 552, 'pos_2_3': 719, 'pos_4_10': 2863, 'pos_11_20': 5462, 'pos_21_30': 5310, 'pos_31_40': 5003, 'pos_41_50': 4808, 'pos_51_60': 4734, 'pos_61_70': 4353, 'pos_71_80': 4102, 'pos_81_90': 3845, 'pos_91_100': 2486, 'etv': 637742.968903916, 'impressions_etv': 57452.6048459257, 'count': 44237, 'estimated_paid_traffic_cost': 909043.3834423102, 'is_new': 26263, 'is_up': 8175, 'is_down': 8423, 'is_lost': 17468}, 'paid': {'pos_1': 47, 'pos_2_3': 6, 'pos_4_10': 0, 'pos_11_20': 0, 'pos_21_30': 0, 'pos_31_40': 0, 'pos_41_50': 0, 'pos_51_60': 0, 'pos_61_70': 0, 'pos_71_80': 0, 'pos_81_90': 0, 'pos_91_100': 0, 'etv': 4677.018100857735, 'impressions_etv': 1013.5376858711243, 'count': 53, 'estimated_paid_traffic_cost': 23092.06847770512, 'is_new': 52, 'is_up': 0, 'is_down': 0, 'is_lost': 24}}}, {'se_type': 'google', 'year': 2021, 'month': 12, 'metrics': {'organic': {'pos_1': 508, 'pos_2_3': 689, 'pos_4_10': 2746, 'pos_11_20': 5345, 'pos_21_30': 5168, 'pos_31_40': 4922, 'pos_41_50': 4648, 'pos_51_60': 4600, 'pos_61_70': 4294, 'pos_71_80': 4232, 'pos_81_90': 4061, 'pos_91_100': 2591, 'etv': 634698.2907511089, 'impressions_etv': 54761.560627161525, 'count': 43804, 'estimated_paid_traffic_cost': 941076.0821428765, 'is_new': 7762, 'is_up': 4429, 'is_down': 9983, 'is_lost': 30598}, 'paid': {'pos_1': 44, 'pos_2_3': 9, 'pos_4_10': 1, 'pos_11_20': 0, 'pos_21_30': 0, 'pos_31_40': 0, 'pos_41_50': 0, 'pos_51_60': 0, 'pos_61_70': 0, 'pos_71_80': 0, 'pos_81_90': 0, 'pos_91_100': 0, 'etv': 321.45899963378906, 'impressions_etv': 72.45617935061455, 'count': 54, 'estimated_paid_traffic_cost': 737.0750837959349, 'is_new': 0, 'is_up': 0, 'is_down': 20, 'is_lost': 53}}}, {'se_type': 'google', 'year': 2021, 'month': 11, 'metrics': {'organic': {'pos_1': 440, 'pos_2_3': 629, 'pos_4_10': 2278, 'pos_11_20': 4185, 'pos_21_30': 4171, 'pos_31_40': 3820, 'pos_41_50': 3631, 'pos_51_60': 3520, 'pos_61_70': 3340, 'pos_71_80': 3262, 'pos_81_90': 3050, 'pos_91_100': 1881, 'etv': 650587.0973674897, 'impressions_etv': 34684.22184036579, 'count': 34207, 'estimated_paid_traffic_cost': 949285.7800977975, 'is_new': 401, 'is_up': 2198, 'is_down': 30610, 'is_lost': 3063}, 'paid': {'pos_1': 26, 'pos_2_3': 2, 'pos_4_10': 1, 'pos_11_20': 0, 'pos_21_30': 0, 'pos_31_40': 0, 'pos_41_50': 0, 'pos_51_60': 0, 'pos_61_70': 0, 'pos_71_80': 0, 'pos_81_90': 0, 'pos_91_100': 0, 'etv': 287.73000317811966, 'impressions_etv': 133.94685125350952, 'count': 29, 'estimated_paid_traffic_cost': 586.9412127137184, 'is_new': 0, 'is_up': 9, 'is_down': 28, 'is_lost': 0}}}, {'se_type': 'google', 'year': 2021, 'month': 10, 'metrics': {'organic': {'pos_1': 113, 'pos_2_3': 223, 'pos_4_10': 736, 'pos_11_20': 1175, 'pos_21_30': 1099, 'pos_31_40': 1134, 'pos_41_50': 1029, 'pos_51_60': 1017, 'pos_61_70': 920, 'pos_71_80': 997, 'pos_81_90': 894, 'pos_91_100': 700, 'etv': 247603.53053333238, 'impressions_etv': 18285.719811004587, 'count': 10037, 'estimated_paid_traffic_cost': 376001.98036572494, 'is_new': 0, 'is_up': 0, 'is_down': 8948, 'is_lost': 0}, 'paid': {'pos_1': 54, 'pos_2_3': 13, 'pos_4_10': 0, 'pos_11_20': 0, 'pos_21_30': 0, 'pos_31_40': 0, 'pos_41_50': 0, 'pos_51_60': 0, 'pos_61_70': 0, 'pos_71_80': 0, 'pos_81_90': 0, 'pos_91_100': 0, 'etv': 3725.449764232337, 'impressions_etv': 94.40377214986884, 'count': 67, 'estimated_paid_traffic_cost': 11550.072828220184, 'is_new': 0, 'is_up': 0, 'is_down': 3700, 'is_lost': 0}}}, {'se_type': 'google', 'year': 2021, 'month': 9, 'metrics': {'organic': {'pos_1': 0, 'pos_2_3': 1, 'pos_4_10': 1, 'pos_11_20': 4, 'pos_21_30': 4, 'pos_31_40': 8, 'pos_41_50': 12, 'pos_51_60': 11, 'pos_61_70': 15, 'pos_71_80': 15, 'pos_81_90': 19, 'pos_91_100': 15, 'etv': 10.64100020378828, 'impressions_etv': 1.0475999945774674, 'count': 105, 'estimated_paid_traffic_cost': 10.548838848946616, 'is_new': 0, 'is_up': 0, 'is_down': 92, 'is_lost': 0}, 'paid': {'pos_1': 0, 'pos_2_3': 0, 'pos_4_10': 0, 'pos_11_20': 0, 'pos_21_30': 0, 'pos_31_40': 0, 'pos_41_50': 0, 'pos_51_60': 0, 'pos_61_70': 0, 'pos_71_80': 0, 'pos_81_90': 0, 'pos_91_100': 0, 'etv': 0, 'impressions_etv': 0, 'count': 0, 'estimated_paid_traffic_cost': 0, 'is_new': 0, 'is_up': 0, 'is_down': 0, 'is_lost': 0}}}, {'se_type': 'google', 'year': 2021, 'month': 8, 'metrics': {'organic': None, 'paid': None}}, {'se_type': 'google', 'year': 2021, 'month': 7, 'metrics': {'organic': {'pos_1': 0, 'pos_2_3': 0, 'pos_4_10': 0, 'pos_11_20': 0, 'pos_21_30': 0, 'pos_31_40': 1, 'pos_41_50': 0, 'pos_51_60': 0, 'pos_61_70': 3, 'pos_71_80': 0, 'pos_81_90': 0, 'pos_91_100': 1, 'etv': 5.396999960765243, 'impressions_etv': 0.14112000167369843, 'count': 5, 'estimated_paid_traffic_cost': 10.482354294508696, 'is_new': 0, 'is_up': 1, 'is_down': 2, 'is_lost': 2}, 'paid': {'pos_1': 0, 'pos_2_3': 0, 'pos_4_10': 0, 'pos_11_20': 0, 'pos_21_30': 0, 'pos_31_40': 0, 'pos_41_50': 0, 'pos_51_60': 0, 'pos_61_70': 0, 'pos_71_80': 0, 'pos_81_90': 0, 'pos_91_100': 0, 'etv': 0, 'impressions_etv': 0, 'count': 0, 'estimated_paid_traffic_cost': 0, 'is_new': 0, 'is_up': 0, 'is_down': 0, 'is_lost': 0}}}, {'se_type': 'google', 'year': 2021, 'month': 6, 'metrics': {'organic': {'pos_1': 0, 'pos_2_3': 0, 'pos_4_10': 0, 'pos_11_20': 0, 'pos_21_30': 0, 'pos_31_40': 2, 'pos_41_50': 0, 'pos_51_60': 1, 'pos_61_70': 4, 'pos_71_80': 1, 'pos_81_90': 0, 'pos_91_100': 1, 'etv': 2.7036934389436436, 'impressions_etv': 0.351547484213035, 'count': 9, 'estimated_paid_traffic_cost': 4.2321429060118225, 'is_new': 91, 'is_up': 3, 'is_down': 1, 'is_lost': 9}, 'paid': {'pos_1': 0, 'pos_2_3': 0, 'pos_4_10': 0, 'pos_11_20': 0, 'pos_21_30': 0, 'pos_31_40': 0, 'pos_41_50': 0, 'pos_51_60': 0, 'pos_61_70': 0, 'pos_71_80': 0, 'pos_81_90': 0, 'pos_91_100': 0, 'etv': 0, 'impressions_etv': 0, 'count': 0, 'estimated_paid_traffic_cost': 0, 'is_new': 0, 'is_up': 0, 'is_down': 0, 'is_lost': 0}}}, {'se_type': 'google', 'year': 2021, 'month': 5, 'metrics': {'organic': {'pos_1': 0, 'pos_2_3': 0, 'pos_4_10': 0, 'pos_11_20': 3, 'pos_21_30': 5, 'pos_31_40': 5, 'pos_41_50': 1, 'pos_51_60': 8, 'pos_61_70': 7, 'pos_71_80': 3, 'pos_81_90': 7, 'pos_91_100': 11, 'etv': 4.06872, 'impressions_etv': 0.8378118000000001, 'count': 50, 'estimated_paid_traffic_cost': 6.24408236298, 'is_new': 114, 'is_up': 18, 'is_down': 12, 'is_lost': 17}, 'paid': {'pos_1': 0, 'pos_2_3': 0, 'pos_4_10': 0, 'pos_11_20': 0, 'pos_21_30': 0, 'pos_31_40': 0, 'pos_41_50': 0, 'pos_51_60': 0, 'pos_61_70': 0, 'pos_71_80': 0, 'pos_81_90': 0, 'pos_91_100': 0, 'etv': 0, 'impressions_etv': 0, 'count': 0, 'estimated_paid_traffic_cost': 0, 'is_new': 0, 'is_up': 0, 'is_down': 0, 'is_lost': 0}}}, {'se_type': 'google', 'year': 2021, 'month': 4, 'metrics': {'organic': {'pos_1': 0, 'pos_2_3': 0, 'pos_4_10': 4, 'pos_11_20': 18, 'pos_21_30': 11, 'pos_31_40': 22, 'pos_41_50': 19, 'pos_51_60': 23, 'pos_61_70': 26, 'pos_71_80': 25, 'pos_81_90': 21, 'pos_91_100': 21, 'etv': 89.36425946594517, 'impressions_etv': 15.1610278917183, 'count': 190, 'estimated_paid_traffic_cost': 286.752340230807, 'is_new': 0, 'is_up': 235, 'is_down': 0, 'is_lost': 0}, 'paid': {'pos_1': 0, 'pos_2_3': 0, 'pos_4_10': 0, 'pos_11_20': 0, 'pos_21_30': 0, 'pos_31_40': 0, 'pos_41_50': 0, 'pos_51_60': 0, 'pos_61_70': 0, 'pos_71_80': 0, 'pos_81_90': 0, 'pos_91_100': 0, 'etv': 0, 'impressions_etv': 0, 'count': 0, 'estimated_paid_traffic_cost': 0, 'is_new': 0, 'is_up': 0, 'is_down': 0, 'is_lost': 0}}}, {'se_type': 'google', 'year': 2021, 'month': 3, 'metrics': {'organic': {'pos_1': 0, 'pos_2_3': 0, 'pos_4_10': 5, 'pos_11_20': 29, 'pos_21_30': 18, 'pos_31_40': 26, 'pos_41_50': 39, 'pos_51_60': 37, 'pos_61_70': 38, 'pos_71_80': 41, 'pos_81_90': 32, 'pos_91_100': 28, 'etv': 221.68726633488833, 'impressions_etv': 67.83859912196097, 'count': 293, 'estimated_paid_traffic_cost': 327.6228795031952, 'is_new': 0, 'is_up': 432, 'is_down': 0, 'is_lost': 0}, 'paid': {'pos_1': 0, 'pos_2_3': 0, 'pos_4_10': 0, 'pos_11_20': 0, 'pos_21_30': 0, 'pos_31_40': 0, 'pos_41_50': 0, 'pos_51_60': 0, 'pos_61_70': 0, 'pos_71_80': 0, 'pos_81_90': 0, 'pos_91_100': 0, 'etv': 0, 'impressions_etv': 0, 'count': 0, 'estimated_paid_traffic_cost': 0, 'is_new': 0, 'is_up': 0, 'is_down': 0, 'is_lost': 0}}}, {'se_type': 'google', 'year': 2021, 'month': 2, 'metrics': {'organic': {'pos_1': 0, 'pos_2_3': 1, 'pos_4_10': 6, 'pos_11_20': 27, 'pos_21_30': 17, 'pos_31_40': 27, 'pos_41_50': 43, 'pos_51_60': 46, 'pos_61_70': 37, 'pos_71_80': 41, 'pos_81_90': 32, 'pos_91_100': 26, 'etv': 228.11818800075724, 'impressions_etv': 72.38376257446497, 'count': 303, 'estimated_paid_traffic_cost': 313.2367321219683, 'is_new': 0, 'is_up': 442, 'is_down': 0, 'is_lost': 0}, 'paid': {'pos_1': 0, 'pos_2_3': 0, 'pos_4_10': 0, 'pos_11_20': 0, 'pos_21_30': 0, 'pos_31_40': 0, 'pos_41_50': 0, 'pos_51_60': 0, 'pos_61_70': 0, 'pos_71_80': 0, 'pos_81_90': 0, 'pos_91_100': 0, 'etv': 0, 'impressions_etv': 0, 'count': 0, 'estimated_paid_traffic_cost': 0, 'is_new': 0, 'is_up': 0, 'is_down': 0, 'is_lost': 0}}}, {'se_type': 'google', 'year': 2021, 'month': 1, 'metrics': {'organic': {'pos_1': 1, 'pos_2_3': 1, 'pos_4_10': 7, 'pos_11_20': 20, 'pos_21_30': 20, 'pos_31_40': 26, 'pos_41_50': 32, 'pos_51_60': 37, 'pos_61_70': 47, 'pos_71_80': 35, 'pos_81_90': 28, 'pos_91_100': 25, 'etv': 162.15490847536657, 'impressions_etv': 31.906744240954602, 'count': 279, 'estimated_paid_traffic_cost': 204.2672411408583, 'is_new': 233, 'is_up': 0, 'is_down': 0, 'is_lost': 0}, 'paid': {'pos_1': 0, 'pos_2_3': 0, 'pos_4_10': 0, 'pos_11_20': 0, 'pos_21_30': 0, 'pos_31_40': 0, 'pos_41_50': 0, 'pos_51_60': 0, 'pos_61_70': 0, 'pos_71_80': 0, 'pos_81_90': 0, 'pos_91_100': 0, 'etv': 0, 'impressions_etv': 0, 'count': 0, 'estimated_paid_traffic_cost': 0, 'is_new': 0, 'is_up': 0, 'is_down': 0, 'is_lost': 0}}}]}]]]\n"
     ]
    }
   ],
   "source": [
    "#Converting DataFrame to list\n",
    "\n",
    "lists = df2.loc[[0]].values.tolist()\n",
    "print(lists)"
   ]
  },
  {
   "cell_type": "code",
   "execution_count": 26,
   "id": "499e9d1e",
   "metadata": {},
   "outputs": [
    {
     "name": "stdout",
     "output_type": "stream",
     "text": [
      "<class 'list'>\n"
     ]
    }
   ],
   "source": [
    "print(type(lists))\n"
   ]
  },
  {
   "cell_type": "code",
   "execution_count": 27,
   "id": "3888bed2",
   "metadata": {},
   "outputs": [
    {
     "name": "stdout",
     "output_type": "stream",
     "text": [
      "<class 'dict'>\n",
      "<class 'pandas.core.frame.DataFrame'>\n",
      "<class 'list'>\n"
     ]
    }
   ],
   "source": [
    "print(type(response))\n",
    "\n",
    "print(type(df2))\n",
    "\n",
    "print(type(lists))"
   ]
  },
  {
   "cell_type": "code",
   "execution_count": 28,
   "id": "c0682887",
   "metadata": {},
   "outputs": [
    {
     "name": "stdout",
     "output_type": "stream",
     "text": [
      "[[[{'se_type': 'google', 'target': 'lovepop.com', 'location_code': 2840, 'language_code': 'en', 'total_count': 24, 'items_count': 24, 'items': [{'se_type': 'google', 'year': 2022, 'month': 12, 'metrics': {'organic': {'pos_1': 677, 'pos_2_3': 1112, 'pos_4_10': 4372, 'pos_11_20': 6572, 'pos_21_30': 7211, 'pos_31_40': 7877, 'pos_41_50': 7804, 'pos_51_60': 7585, 'pos_61_70': 7229, 'pos_71_80': 6871, 'pos_81_90': 6715, 'pos_91_100': 4476, 'etv': 745085.0601391569, 'impressions_etv': 58520.26186590642, 'count': 68511, 'estimated_paid_traffic_cost': 2052003.993824624, 'is_new': 27528, 'is_up': 17143, 'is_down': 20655, 'is_lost': 18815}, 'paid': {'pos_1': 47, 'pos_2_3': 5, 'pos_4_10': 0, 'pos_11_20': 0, 'pos_21_30': 0, 'pos_31_40': 0, 'pos_41_50': 0, 'pos_51_60': 0, 'pos_61_70': 0, 'pos_71_80': 0, 'pos_81_90': 0, 'pos_91_100': 0, 'etv': 8199.653734147549, 'impressions_etv': 519.6330796182156, 'count': 52, 'estimated_paid_traffic_cost': 17627.2114956975, 'is_new': 49, 'is_up': 0, 'is_down': 1, 'is_lost': 43}}}, {'se_type': 'google', 'year': 2022, 'month': 11, 'metrics': {'organic': {'pos_1': 631, 'pos_2_3': 1053, 'pos_4_10': 4195, 'pos_11_20': 6500, 'pos_21_30': 6833, 'pos_31_40': 7571, 'pos_41_50': 7500, 'pos_51_60': 7140, 'pos_61_70': 6533, 'pos_71_80': 6118, 'pos_81_90': 5503, 'pos_91_100': 3632, 'etv': 614980.2438674048, 'impressions_etv': 54480.25092233345, 'count': 63209, 'estimated_paid_traffic_cost': 1532791.369298386, 'is_new': 23181, 'is_up': 18600, 'is_down': 18150, 'is_lost': 15171}, 'paid': {'pos_1': 43, 'pos_2_3': 7, 'pos_4_10': 0, 'pos_11_20': 0, 'pos_21_30': 0, 'pos_31_40': 0, 'pos_41_50': 0, 'pos_51_60': 0, 'pos_61_70': 0, 'pos_71_80': 0, 'pos_81_90': 0, 'pos_91_100': 0, 'etv': 9928.938042521477, 'impressions_etv': 5170.634325683117, 'count': 50, 'estimated_paid_traffic_cost': 40066.30236709118, 'is_new': 47, 'is_up': 0, 'is_down': 0, 'is_lost': 31}}}, {'se_type': 'google', 'year': 2022, 'month': 10, 'metrics': {'organic': {'pos_1': 596, 'pos_2_3': 1039, 'pos_4_10': 4099, 'pos_11_20': 6455, 'pos_21_30': 6795, 'pos_31_40': 7191, 'pos_41_50': 6746, 'pos_51_60': 6152, 'pos_61_70': 5549, 'pos_71_80': 4898, 'pos_81_90': 4230, 'pos_91_100': 2575, 'etv': 555263.2591753248, 'impressions_etv': 49439.14624620322, 'count': 56325, 'estimated_paid_traffic_cost': 1112313.523826365, 'is_new': 19427, 'is_up': 14864, 'is_down': 18925, 'is_lost': 15996}, 'paid': {'pos_1': 30, 'pos_2_3': 3, 'pos_4_10': 0, 'pos_11_20': 0, 'pos_21_30': 0, 'pos_31_40': 0, 'pos_41_50': 0, 'pos_51_60': 0, 'pos_61_70': 0, 'pos_71_80': 0, 'pos_81_90': 0, 'pos_91_100': 0, 'etv': 9570.429143190384, 'impressions_etv': 5149.418808251619, 'count': 33, 'estimated_paid_traffic_cost': 12944.025265455246, 'is_new': 31, 'is_up': 0, 'is_down': 0, 'is_lost': 8}}}, {'se_type': 'google', 'year': 2022, 'month': 9, 'metrics': {'organic': {'pos_1': 537, 'pos_2_3': 962, 'pos_4_10': 3827, 'pos_11_20': 6242, 'pos_21_30': 6580, 'pos_31_40': 6594, 'pos_41_50': 5946, 'pos_51_60': 5324, 'pos_61_70': 4864, 'pos_71_80': 3932, 'pos_81_90': 3205, 'pos_91_100': 1845, 'etv': 472396.4765184261, 'impressions_etv': 53219.453628312796, 'count': 49858, 'estimated_paid_traffic_cost': 830853.3386101923, 'is_new': 17269, 'is_up': 14122, 'is_down': 15801, 'is_lost': 14577}, 'paid': {'pos_1': 8, 'pos_2_3': 0, 'pos_4_10': 0, 'pos_11_20': 0, 'pos_21_30': 0, 'pos_31_40': 0, 'pos_41_50': 0, 'pos_51_60': 0, 'pos_61_70': 0, 'pos_71_80': 0, 'pos_81_90': 0, 'pos_91_100': 0, 'etv': 3095.6940495967865, 'impressions_etv': 1848.9271124005318, 'count': 8, 'estimated_paid_traffic_cost': 4085.796940803528, 'is_new': 7, 'is_up': 0, 'is_down': 0, 'is_lost': 38}}}, {'se_type': 'google', 'year': 2022, 'month': 8, 'metrics': {'organic': {'pos_1': 554, 'pos_2_3': 994, 'pos_4_10': 3672, 'pos_11_20': 6234, 'pos_21_30': 6729, 'pos_31_40': 6968, 'pos_41_50': 6131, 'pos_51_60': 5483, 'pos_61_70': 4862, 'pos_71_80': 4003, 'pos_81_90': 3318, 'pos_91_100': 1883, 'etv': 461515.0369215645, 'impressions_etv': 54474.85046136007, 'count': 50831, 'estimated_paid_traffic_cost': 788785.3657510872, 'is_new': 18877, 'is_up': 14428, 'is_down': 15041, 'is_lost': 13796}, 'paid': {'pos_1': 16, 'pos_2_3': 1, 'pos_4_10': 0, 'pos_11_20': 0, 'pos_21_30': 0, 'pos_31_40': 0, 'pos_41_50': 0, 'pos_51_60': 0, 'pos_61_70': 0, 'pos_71_80': 0, 'pos_81_90': 0, 'pos_91_100': 0, 'etv': 2746.205914258957, 'impressions_etv': 1785.3762204051018, 'count': 17, 'estimated_paid_traffic_cost': 3359.2802171707153, 'is_new': 11, 'is_up': 0, 'is_down': 0, 'is_lost': 52}}}, {'se_type': 'google', 'year': 2022, 'month': 7, 'metrics': {'organic': {'pos_1': 582, 'pos_2_3': 906, 'pos_4_10': 3475, 'pos_11_20': 5610, 'pos_21_30': 6413, 'pos_31_40': 6480, 'pos_41_50': 6021, 'pos_51_60': 5217, 'pos_61_70': 4391, 'pos_71_80': 3778, 'pos_81_90': 2986, 'pos_91_100': 1689, 'etv': 412881.4331649672, 'impressions_etv': 43190.799279714, 'count': 47548, 'estimated_paid_traffic_cost': 1063342.1519783386, 'is_new': 19984, 'is_up': 12082, 'is_down': 13577, 'is_lost': 13744}, 'paid': {'pos_1': 49, 'pos_2_3': 5, 'pos_4_10': 0, 'pos_11_20': 0, 'pos_21_30': 0, 'pos_31_40': 0, 'pos_41_50': 0, 'pos_51_60': 0, 'pos_61_70': 0, 'pos_71_80': 0, 'pos_81_90': 0, 'pos_91_100': 0, 'etv': 16129.995009809732, 'impressions_etv': 6591.185849860311, 'count': 54, 'estimated_paid_traffic_cost': 46451.4890550375, 'is_new': 45, 'is_up': 1, 'is_down': 0, 'is_lost': 41}}}, {'se_type': 'google', 'year': 2022, 'month': 6, 'metrics': {'organic': {'pos_1': 639, 'pos_2_3': 890, 'pos_4_10': 3440, 'pos_11_20': 5253, 'pos_21_30': 6291, 'pos_31_40': 6127, 'pos_41_50': 5728, 'pos_51_60': 4959, 'pos_61_70': 4319, 'pos_71_80': 3709, 'pos_81_90': 3144, 'pos_91_100': 1783, 'etv': 474598.8923506811, 'impressions_etv': 49786.26108923089, 'count': 46282, 'estimated_paid_traffic_cost': 1256258.726163684, 'is_new': 46282, 'is_up': 11587, 'is_down': 11456, 'is_lost': 11880}, 'paid': {'pos_1': 52, 'pos_2_3': 2, 'pos_4_10': 1, 'pos_11_20': 0, 'pos_21_30': 0, 'pos_31_40': 0, 'pos_41_50': 0, 'pos_51_60': 0, 'pos_61_70': 0, 'pos_71_80': 0, 'pos_81_90': 0, 'pos_91_100': 0, 'etv': 11034.604105621576, 'impressions_etv': 5194.346728309989, 'count': 55, 'estimated_paid_traffic_cost': 77058.2374600172, 'is_new': 55, 'is_up': 0, 'is_down': 0, 'is_lost': 30}}}, {'se_type': 'google', 'year': 2022, 'month': 5, 'metrics': {'organic': {'pos_1': 676, 'pos_2_3': 888, 'pos_4_10': 3394, 'pos_11_20': 5068, 'pos_21_30': 6064, 'pos_31_40': 5931, 'pos_41_50': 5541, 'pos_51_60': 4746, 'pos_61_70': 4183, 'pos_71_80': 3504, 'pos_81_90': 3048, 'pos_91_100': 1743, 'etv': 504889.6579125058, 'impressions_etv': 50220.01518509351, 'count': 44786, 'estimated_paid_traffic_cost': 1268112.2445392986, 'is_new': 44784, 'is_up': 11460, 'is_down': 10279, 'is_lost': 11516}, 'paid': {'pos_1': 42, 'pos_2_3': 3, 'pos_4_10': 0, 'pos_11_20': 0, 'pos_21_30': 0, 'pos_31_40': 0, 'pos_41_50': 0, 'pos_51_60': 0, 'pos_61_70': 0, 'pos_71_80': 0, 'pos_81_90': 0, 'pos_91_100': 0, 'etv': 10807.122101455927, 'impressions_etv': 4996.04576523602, 'count': 45, 'estimated_paid_traffic_cost': 57197.64793360233, 'is_new': 45, 'is_up': 0, 'is_down': 0, 'is_lost': 29}}}, {'se_type': 'google', 'year': 2022, 'month': 4, 'metrics': {'organic': {'pos_1': 607, 'pos_2_3': 839, 'pos_4_10': 2944, 'pos_11_20': 4836, 'pos_21_30': 5159, 'pos_31_40': 5016, 'pos_41_50': 4579, 'pos_51_60': 4351, 'pos_61_70': 3976, 'pos_71_80': 3458, 'pos_81_90': 2943, 'pos_91_100': 1760, 'etv': 624180.4502648804, 'impressions_etv': 32580.42847463768, 'count': 40468, 'estimated_paid_traffic_cost': 793152.8179018064, 'is_new': 31597, 'is_up': 8006, 'is_down': 10032, 'is_lost': 20640}, 'paid': {'pos_1': 45, 'pos_2_3': 2, 'pos_4_10': 1, 'pos_11_20': 0, 'pos_21_30': 0, 'pos_31_40': 0, 'pos_41_50': 0, 'pos_51_60': 0, 'pos_61_70': 0, 'pos_71_80': 0, 'pos_81_90': 0, 'pos_91_100': 0, 'etv': 5016.782130360603, 'impressions_etv': 1705.530467517674, 'count': 48, 'estimated_paid_traffic_cost': 15563.242857508361, 'is_new': 47, 'is_up': 1, 'is_down': 0, 'is_lost': 39}}}, {'se_type': 'google', 'year': 2022, 'month': 3, 'metrics': {'organic': {'pos_1': 610, 'pos_2_3': 800, 'pos_4_10': 2877, 'pos_11_20': 4739, 'pos_21_30': 4888, 'pos_31_40': 4785, 'pos_41_50': 4899, 'pos_51_60': 4764, 'pos_61_70': 4613, 'pos_71_80': 4237, 'pos_81_90': 3868, 'pos_91_100': 2491, 'etv': 680961.8654501829, 'impressions_etv': 102594.54855549708, 'count': 43571, 'estimated_paid_traffic_cost': 863024.1650260646, 'is_new': 25123, 'is_up': 7313, 'is_down': 11118, 'is_lost': 18988}, 'paid': {'pos_1': 51, 'pos_2_3': 3, 'pos_4_10': 1, 'pos_11_20': 0, 'pos_21_30': 0, 'pos_31_40': 0, 'pos_41_50': 0, 'pos_51_60': 0, 'pos_61_70': 0, 'pos_71_80': 0, 'pos_81_90': 0, 'pos_91_100': 0, 'etv': 5541.689128100872, 'impressions_etv': 6551.806384027004, 'count': 55, 'estimated_paid_traffic_cost': 17251.54897289723, 'is_new': 53, 'is_up': 1, 'is_down': 0, 'is_lost': 40}}}, {'se_type': 'google', 'year': 2022, 'month': 2, 'metrics': {'organic': {'pos_1': 598, 'pos_2_3': 759, 'pos_4_10': 2899, 'pos_11_20': 4898, 'pos_21_30': 5042, 'pos_31_40': 4907, 'pos_41_50': 5107, 'pos_51_60': 5011, 'pos_61_70': 4935, 'pos_71_80': 4617, 'pos_81_90': 4363, 'pos_91_100': 2909, 'etv': 700216.7366716452, 'impressions_etv': 95771.81544929463, 'count': 46045, 'estimated_paid_traffic_cost': 994345.273072112, 'is_new': 26218, 'is_up': 7725, 'is_down': 10789, 'is_lost': 19007}, 'paid': {'pos_1': 48, 'pos_2_3': 3, 'pos_4_10': 1, 'pos_11_20': 0, 'pos_21_30': 0, 'pos_31_40': 0, 'pos_41_50': 0, 'pos_51_60': 0, 'pos_61_70': 0, 'pos_71_80': 0, 'pos_81_90': 0, 'pos_91_100': 0, 'etv': 5249.861128687859, 'impressions_etv': 2121.373426347971, 'count': 52, 'estimated_paid_traffic_cost': 19217.46799635887, 'is_new': 50, 'is_up': 1, 'is_down': 0, 'is_lost': 46}}}, {'se_type': 'google', 'year': 2022, 'month': 1, 'metrics': {'organic': {'pos_1': 552, 'pos_2_3': 719, 'pos_4_10': 2863, 'pos_11_20': 5462, 'pos_21_30': 5310, 'pos_31_40': 5003, 'pos_41_50': 4808, 'pos_51_60': 4734, 'pos_61_70': 4353, 'pos_71_80': 4102, 'pos_81_90': 3845, 'pos_91_100': 2486, 'etv': 637742.968903916, 'impressions_etv': 57452.6048459257, 'count': 44237, 'estimated_paid_traffic_cost': 909043.3834423102, 'is_new': 26263, 'is_up': 8175, 'is_down': 8423, 'is_lost': 17468}, 'paid': {'pos_1': 47, 'pos_2_3': 6, 'pos_4_10': 0, 'pos_11_20': 0, 'pos_21_30': 0, 'pos_31_40': 0, 'pos_41_50': 0, 'pos_51_60': 0, 'pos_61_70': 0, 'pos_71_80': 0, 'pos_81_90': 0, 'pos_91_100': 0, 'etv': 4677.018100857735, 'impressions_etv': 1013.5376858711243, 'count': 53, 'estimated_paid_traffic_cost': 23092.06847770512, 'is_new': 52, 'is_up': 0, 'is_down': 0, 'is_lost': 24}}}, {'se_type': 'google', 'year': 2021, 'month': 12, 'metrics': {'organic': {'pos_1': 508, 'pos_2_3': 689, 'pos_4_10': 2746, 'pos_11_20': 5345, 'pos_21_30': 5168, 'pos_31_40': 4922, 'pos_41_50': 4648, 'pos_51_60': 4600, 'pos_61_70': 4294, 'pos_71_80': 4232, 'pos_81_90': 4061, 'pos_91_100': 2591, 'etv': 634698.2907511089, 'impressions_etv': 54761.560627161525, 'count': 43804, 'estimated_paid_traffic_cost': 941076.0821428765, 'is_new': 7762, 'is_up': 4429, 'is_down': 9983, 'is_lost': 30598}, 'paid': {'pos_1': 44, 'pos_2_3': 9, 'pos_4_10': 1, 'pos_11_20': 0, 'pos_21_30': 0, 'pos_31_40': 0, 'pos_41_50': 0, 'pos_51_60': 0, 'pos_61_70': 0, 'pos_71_80': 0, 'pos_81_90': 0, 'pos_91_100': 0, 'etv': 321.45899963378906, 'impressions_etv': 72.45617935061455, 'count': 54, 'estimated_paid_traffic_cost': 737.0750837959349, 'is_new': 0, 'is_up': 0, 'is_down': 20, 'is_lost': 53}}}, {'se_type': 'google', 'year': 2021, 'month': 11, 'metrics': {'organic': {'pos_1': 440, 'pos_2_3': 629, 'pos_4_10': 2278, 'pos_11_20': 4185, 'pos_21_30': 4171, 'pos_31_40': 3820, 'pos_41_50': 3631, 'pos_51_60': 3520, 'pos_61_70': 3340, 'pos_71_80': 3262, 'pos_81_90': 3050, 'pos_91_100': 1881, 'etv': 650587.0973674897, 'impressions_etv': 34684.22184036579, 'count': 34207, 'estimated_paid_traffic_cost': 949285.7800977975, 'is_new': 401, 'is_up': 2198, 'is_down': 30610, 'is_lost': 3063}, 'paid': {'pos_1': 26, 'pos_2_3': 2, 'pos_4_10': 1, 'pos_11_20': 0, 'pos_21_30': 0, 'pos_31_40': 0, 'pos_41_50': 0, 'pos_51_60': 0, 'pos_61_70': 0, 'pos_71_80': 0, 'pos_81_90': 0, 'pos_91_100': 0, 'etv': 287.73000317811966, 'impressions_etv': 133.94685125350952, 'count': 29, 'estimated_paid_traffic_cost': 586.9412127137184, 'is_new': 0, 'is_up': 9, 'is_down': 28, 'is_lost': 0}}}, {'se_type': 'google', 'year': 2021, 'month': 10, 'metrics': {'organic': {'pos_1': 113, 'pos_2_3': 223, 'pos_4_10': 736, 'pos_11_20': 1175, 'pos_21_30': 1099, 'pos_31_40': 1134, 'pos_41_50': 1029, 'pos_51_60': 1017, 'pos_61_70': 920, 'pos_71_80': 997, 'pos_81_90': 894, 'pos_91_100': 700, 'etv': 247603.53053333238, 'impressions_etv': 18285.719811004587, 'count': 10037, 'estimated_paid_traffic_cost': 376001.98036572494, 'is_new': 0, 'is_up': 0, 'is_down': 8948, 'is_lost': 0}, 'paid': {'pos_1': 54, 'pos_2_3': 13, 'pos_4_10': 0, 'pos_11_20': 0, 'pos_21_30': 0, 'pos_31_40': 0, 'pos_41_50': 0, 'pos_51_60': 0, 'pos_61_70': 0, 'pos_71_80': 0, 'pos_81_90': 0, 'pos_91_100': 0, 'etv': 3725.449764232337, 'impressions_etv': 94.40377214986884, 'count': 67, 'estimated_paid_traffic_cost': 11550.072828220184, 'is_new': 0, 'is_up': 0, 'is_down': 3700, 'is_lost': 0}}}, {'se_type': 'google', 'year': 2021, 'month': 9, 'metrics': {'organic': {'pos_1': 0, 'pos_2_3': 1, 'pos_4_10': 1, 'pos_11_20': 4, 'pos_21_30': 4, 'pos_31_40': 8, 'pos_41_50': 12, 'pos_51_60': 11, 'pos_61_70': 15, 'pos_71_80': 15, 'pos_81_90': 19, 'pos_91_100': 15, 'etv': 10.64100020378828, 'impressions_etv': 1.0475999945774674, 'count': 105, 'estimated_paid_traffic_cost': 10.548838848946616, 'is_new': 0, 'is_up': 0, 'is_down': 92, 'is_lost': 0}, 'paid': {'pos_1': 0, 'pos_2_3': 0, 'pos_4_10': 0, 'pos_11_20': 0, 'pos_21_30': 0, 'pos_31_40': 0, 'pos_41_50': 0, 'pos_51_60': 0, 'pos_61_70': 0, 'pos_71_80': 0, 'pos_81_90': 0, 'pos_91_100': 0, 'etv': 0, 'impressions_etv': 0, 'count': 0, 'estimated_paid_traffic_cost': 0, 'is_new': 0, 'is_up': 0, 'is_down': 0, 'is_lost': 0}}}, {'se_type': 'google', 'year': 2021, 'month': 8, 'metrics': {'organic': None, 'paid': None}}, {'se_type': 'google', 'year': 2021, 'month': 7, 'metrics': {'organic': {'pos_1': 0, 'pos_2_3': 0, 'pos_4_10': 0, 'pos_11_20': 0, 'pos_21_30': 0, 'pos_31_40': 1, 'pos_41_50': 0, 'pos_51_60': 0, 'pos_61_70': 3, 'pos_71_80': 0, 'pos_81_90': 0, 'pos_91_100': 1, 'etv': 5.396999960765243, 'impressions_etv': 0.14112000167369843, 'count': 5, 'estimated_paid_traffic_cost': 10.482354294508696, 'is_new': 0, 'is_up': 1, 'is_down': 2, 'is_lost': 2}, 'paid': {'pos_1': 0, 'pos_2_3': 0, 'pos_4_10': 0, 'pos_11_20': 0, 'pos_21_30': 0, 'pos_31_40': 0, 'pos_41_50': 0, 'pos_51_60': 0, 'pos_61_70': 0, 'pos_71_80': 0, 'pos_81_90': 0, 'pos_91_100': 0, 'etv': 0, 'impressions_etv': 0, 'count': 0, 'estimated_paid_traffic_cost': 0, 'is_new': 0, 'is_up': 0, 'is_down': 0, 'is_lost': 0}}}, {'se_type': 'google', 'year': 2021, 'month': 6, 'metrics': {'organic': {'pos_1': 0, 'pos_2_3': 0, 'pos_4_10': 0, 'pos_11_20': 0, 'pos_21_30': 0, 'pos_31_40': 2, 'pos_41_50': 0, 'pos_51_60': 1, 'pos_61_70': 4, 'pos_71_80': 1, 'pos_81_90': 0, 'pos_91_100': 1, 'etv': 2.7036934389436436, 'impressions_etv': 0.351547484213035, 'count': 9, 'estimated_paid_traffic_cost': 4.2321429060118225, 'is_new': 91, 'is_up': 3, 'is_down': 1, 'is_lost': 9}, 'paid': {'pos_1': 0, 'pos_2_3': 0, 'pos_4_10': 0, 'pos_11_20': 0, 'pos_21_30': 0, 'pos_31_40': 0, 'pos_41_50': 0, 'pos_51_60': 0, 'pos_61_70': 0, 'pos_71_80': 0, 'pos_81_90': 0, 'pos_91_100': 0, 'etv': 0, 'impressions_etv': 0, 'count': 0, 'estimated_paid_traffic_cost': 0, 'is_new': 0, 'is_up': 0, 'is_down': 0, 'is_lost': 0}}}, {'se_type': 'google', 'year': 2021, 'month': 5, 'metrics': {'organic': {'pos_1': 0, 'pos_2_3': 0, 'pos_4_10': 0, 'pos_11_20': 3, 'pos_21_30': 5, 'pos_31_40': 5, 'pos_41_50': 1, 'pos_51_60': 8, 'pos_61_70': 7, 'pos_71_80': 3, 'pos_81_90': 7, 'pos_91_100': 11, 'etv': 4.06872, 'impressions_etv': 0.8378118000000001, 'count': 50, 'estimated_paid_traffic_cost': 6.24408236298, 'is_new': 114, 'is_up': 18, 'is_down': 12, 'is_lost': 17}, 'paid': {'pos_1': 0, 'pos_2_3': 0, 'pos_4_10': 0, 'pos_11_20': 0, 'pos_21_30': 0, 'pos_31_40': 0, 'pos_41_50': 0, 'pos_51_60': 0, 'pos_61_70': 0, 'pos_71_80': 0, 'pos_81_90': 0, 'pos_91_100': 0, 'etv': 0, 'impressions_etv': 0, 'count': 0, 'estimated_paid_traffic_cost': 0, 'is_new': 0, 'is_up': 0, 'is_down': 0, 'is_lost': 0}}}, {'se_type': 'google', 'year': 2021, 'month': 4, 'metrics': {'organic': {'pos_1': 0, 'pos_2_3': 0, 'pos_4_10': 4, 'pos_11_20': 18, 'pos_21_30': 11, 'pos_31_40': 22, 'pos_41_50': 19, 'pos_51_60': 23, 'pos_61_70': 26, 'pos_71_80': 25, 'pos_81_90': 21, 'pos_91_100': 21, 'etv': 89.36425946594517, 'impressions_etv': 15.1610278917183, 'count': 190, 'estimated_paid_traffic_cost': 286.752340230807, 'is_new': 0, 'is_up': 235, 'is_down': 0, 'is_lost': 0}, 'paid': {'pos_1': 0, 'pos_2_3': 0, 'pos_4_10': 0, 'pos_11_20': 0, 'pos_21_30': 0, 'pos_31_40': 0, 'pos_41_50': 0, 'pos_51_60': 0, 'pos_61_70': 0, 'pos_71_80': 0, 'pos_81_90': 0, 'pos_91_100': 0, 'etv': 0, 'impressions_etv': 0, 'count': 0, 'estimated_paid_traffic_cost': 0, 'is_new': 0, 'is_up': 0, 'is_down': 0, 'is_lost': 0}}}, {'se_type': 'google', 'year': 2021, 'month': 3, 'metrics': {'organic': {'pos_1': 0, 'pos_2_3': 0, 'pos_4_10': 5, 'pos_11_20': 29, 'pos_21_30': 18, 'pos_31_40': 26, 'pos_41_50': 39, 'pos_51_60': 37, 'pos_61_70': 38, 'pos_71_80': 41, 'pos_81_90': 32, 'pos_91_100': 28, 'etv': 221.68726633488833, 'impressions_etv': 67.83859912196097, 'count': 293, 'estimated_paid_traffic_cost': 327.6228795031952, 'is_new': 0, 'is_up': 432, 'is_down': 0, 'is_lost': 0}, 'paid': {'pos_1': 0, 'pos_2_3': 0, 'pos_4_10': 0, 'pos_11_20': 0, 'pos_21_30': 0, 'pos_31_40': 0, 'pos_41_50': 0, 'pos_51_60': 0, 'pos_61_70': 0, 'pos_71_80': 0, 'pos_81_90': 0, 'pos_91_100': 0, 'etv': 0, 'impressions_etv': 0, 'count': 0, 'estimated_paid_traffic_cost': 0, 'is_new': 0, 'is_up': 0, 'is_down': 0, 'is_lost': 0}}}, {'se_type': 'google', 'year': 2021, 'month': 2, 'metrics': {'organic': {'pos_1': 0, 'pos_2_3': 1, 'pos_4_10': 6, 'pos_11_20': 27, 'pos_21_30': 17, 'pos_31_40': 27, 'pos_41_50': 43, 'pos_51_60': 46, 'pos_61_70': 37, 'pos_71_80': 41, 'pos_81_90': 32, 'pos_91_100': 26, 'etv': 228.11818800075724, 'impressions_etv': 72.38376257446497, 'count': 303, 'estimated_paid_traffic_cost': 313.2367321219683, 'is_new': 0, 'is_up': 442, 'is_down': 0, 'is_lost': 0}, 'paid': {'pos_1': 0, 'pos_2_3': 0, 'pos_4_10': 0, 'pos_11_20': 0, 'pos_21_30': 0, 'pos_31_40': 0, 'pos_41_50': 0, 'pos_51_60': 0, 'pos_61_70': 0, 'pos_71_80': 0, 'pos_81_90': 0, 'pos_91_100': 0, 'etv': 0, 'impressions_etv': 0, 'count': 0, 'estimated_paid_traffic_cost': 0, 'is_new': 0, 'is_up': 0, 'is_down': 0, 'is_lost': 0}}}, {'se_type': 'google', 'year': 2021, 'month': 1, 'metrics': {'organic': {'pos_1': 1, 'pos_2_3': 1, 'pos_4_10': 7, 'pos_11_20': 20, 'pos_21_30': 20, 'pos_31_40': 26, 'pos_41_50': 32, 'pos_51_60': 37, 'pos_61_70': 47, 'pos_71_80': 35, 'pos_81_90': 28, 'pos_91_100': 25, 'etv': 162.15490847536657, 'impressions_etv': 31.906744240954602, 'count': 279, 'estimated_paid_traffic_cost': 204.2672411408583, 'is_new': 233, 'is_up': 0, 'is_down': 0, 'is_lost': 0}, 'paid': {'pos_1': 0, 'pos_2_3': 0, 'pos_4_10': 0, 'pos_11_20': 0, 'pos_21_30': 0, 'pos_31_40': 0, 'pos_41_50': 0, 'pos_51_60': 0, 'pos_61_70': 0, 'pos_71_80': 0, 'pos_81_90': 0, 'pos_91_100': 0, 'etv': 0, 'impressions_etv': 0, 'count': 0, 'estimated_paid_traffic_cost': 0, 'is_new': 0, 'is_up': 0, 'is_down': 0, 'is_lost': 0}}}]}]]]\n"
     ]
    }
   ],
   "source": [
    "#Trying other way\n",
    "\n",
    "list2 = df2.values.tolist()    # Convert all values\n",
    "print(list2) "
   ]
  },
  {
   "cell_type": "code",
   "execution_count": 29,
   "id": "de851a91",
   "metadata": {},
   "outputs": [],
   "source": [
    "import  csv\n",
    "\n",
    "with open(\"lovepop_hist_out.csv\",\"w\") as f:\n",
    "    wr = csv.writer(f,delimiter=\"\\n\")\n",
    "    wr.writerow(lists)"
   ]
  },
  {
   "cell_type": "code",
   "execution_count": null,
   "id": "cf1b183c",
   "metadata": {},
   "outputs": [],
   "source": []
  }
 ],
 "metadata": {
  "kernelspec": {
   "display_name": "Python 3 (ipykernel)",
   "language": "python",
   "name": "python3"
  },
  "language_info": {
   "codemirror_mode": {
    "name": "ipython",
    "version": 3
   },
   "file_extension": ".py",
   "mimetype": "text/x-python",
   "name": "python",
   "nbconvert_exporter": "python",
   "pygments_lexer": "ipython3",
   "version": "3.9.13"
  }
 },
 "nbformat": 4,
 "nbformat_minor": 5
}
